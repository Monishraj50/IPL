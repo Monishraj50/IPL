{
  "nbformat": 4,
  "nbformat_minor": 0,
  "metadata": {
    "colab": {
      "name": "IPL.ipynb",
      "provenance": [],
      "mount_file_id": "1xyYYSdEKY4-tWflfJ88YE-4b11rPqyKK",
      "authorship_tag": "ABX9TyOpfDs+op3oE0GAZclumy4f",
      "include_colab_link": true
    },
    "kernelspec": {
      "name": "python3",
      "display_name": "Python 3"
    }
  },
  "cells": [
    {
      "cell_type": "markdown",
      "metadata": {
        "id": "view-in-github",
        "colab_type": "text"
      },
      "source": [
        "<a href=\"https://colab.research.google.com/github/Monishraj50/ipl/blob/main/IPL.ipynb\" target=\"_parent\"><img src=\"https://colab.research.google.com/assets/colab-badge.svg\" alt=\"Open In Colab\"/></a>"
      ]
    },
    {
      "cell_type": "code",
      "metadata": {
        "id": "2UATHRDJafL3"
      },
      "source": [
        "import pandas as pd\n",
        "import numpy as np\n",
        "import seaborn as sns"
      ],
      "execution_count": 211,
      "outputs": []
    },
    {
      "cell_type": "code",
      "metadata": {
        "id": "GX_dlgjig69h"
      },
      "source": [
        "train = pd.read_excel('/content/drive/My Drive/ipl.xlsx', sheet_name='Train_Data')\n",
        "test = pd.read_excel('/content/drive/My Drive/ipl.xlsx',sheet_name='Test_Data')"
      ],
      "execution_count": 212,
      "outputs": []
    },
    {
      "cell_type": "code",
      "metadata": {
        "id": "OjZhJkIqhSQh",
        "outputId": "15f696fd-4cf5-4b09-d672-d8d65a2ee9eb",
        "colab": {
          "base_uri": "https://localhost:8080/",
          "height": 52
        }
      },
      "source": [
        "print(train.shape)\n",
        "print(test.shape)"
      ],
      "execution_count": 213,
      "outputs": [
        {
          "output_type": "stream",
          "text": [
            "(100, 14)\n",
            "(100, 13)\n"
          ],
          "name": "stdout"
        }
      ]
    },
    {
      "cell_type": "code",
      "metadata": {
        "id": "NQZAHOinkOdA",
        "outputId": "85f75017-57ce-46db-e2ec-7feb9fbb6fe2",
        "colab": {
          "base_uri": "https://localhost:8080/",
          "height": 281
        }
      },
      "source": [
        "train.isnull().sum(axis=0)"
      ],
      "execution_count": 214,
      "outputs": [
        {
          "output_type": "execute_result",
          "data": {
            "text/plain": [
              "PLAYER       0\n",
              "Mat          0\n",
              "Inns         0\n",
              "NO           0\n",
              "2018_Runs    0\n",
              "HS           0\n",
              "Avg          0\n",
              "BF           0\n",
              "SR           0\n",
              "100          0\n",
              "50           0\n",
              "4s           0\n",
              "6s           0\n",
              "2019_Runs    0\n",
              "dtype: int64"
            ]
          },
          "metadata": {
            "tags": []
          },
          "execution_count": 214
        }
      ]
    },
    {
      "cell_type": "code",
      "metadata": {
        "id": "bZMwnkK0kaKV",
        "outputId": "f54900c6-a2c3-4a30-9eed-bc31f3ce7d4f",
        "colab": {
          "base_uri": "https://localhost:8080/",
          "height": 281
        }
      },
      "source": [
        "train.dtypes"
      ],
      "execution_count": 215,
      "outputs": [
        {
          "output_type": "execute_result",
          "data": {
            "text/plain": [
              "PLAYER        object\n",
              "Mat            int64\n",
              "Inns           int64\n",
              "NO             int64\n",
              "2018_Runs      int64\n",
              "HS            object\n",
              "Avg           object\n",
              "BF             int64\n",
              "SR           float64\n",
              "100            int64\n",
              "50             int64\n",
              "4s             int64\n",
              "6s             int64\n",
              "2019_Runs      int64\n",
              "dtype: object"
            ]
          },
          "metadata": {
            "tags": []
          },
          "execution_count": 215
        }
      ]
    },
    {
      "cell_type": "code",
      "metadata": {
        "id": "hHluXFgTkjde",
        "outputId": "82b20bd5-bb03-44a5-b0b1-9df2d20505f7",
        "colab": {
          "base_uri": "https://localhost:8080/",
          "height": 263
        }
      },
      "source": [
        "test.dtypes"
      ],
      "execution_count": 216,
      "outputs": [
        {
          "output_type": "execute_result",
          "data": {
            "text/plain": [
              "PLAYER        object\n",
              "Mat            int64\n",
              "Inns           int64\n",
              "NO             int64\n",
              "2019_Runs      int64\n",
              "HS            object\n",
              "Avg           object\n",
              "BF             int64\n",
              "SR           float64\n",
              "100            int64\n",
              "50             int64\n",
              "4s             int64\n",
              "6s             int64\n",
              "dtype: object"
            ]
          },
          "metadata": {
            "tags": []
          },
          "execution_count": 216
        }
      ]
    },
    {
      "cell_type": "code",
      "metadata": {
        "id": "jC2XoqmMlAdt"
      },
      "source": [
        "for i in range(train.shape[0]):\n",
        "  if str(train['HS'][i])[-1]=='*':\n",
        "    train.loc[i,'HS']=train['HS'][i][:-1]"
      ],
      "execution_count": 217,
      "outputs": []
    },
    {
      "cell_type": "code",
      "metadata": {
        "id": "JCoYHPPT2xBa"
      },
      "source": [
        "train['HS']=train['HS'].astype('int')"
      ],
      "execution_count": 218,
      "outputs": []
    },
    {
      "cell_type": "code",
      "metadata": {
        "id": "pu3GWF2K3869",
        "outputId": "ac5769eb-cf2d-4e88-9604-c51e1345abe1",
        "colab": {
          "base_uri": "https://localhost:8080/",
          "height": 70
        }
      },
      "source": [
        "for i in range(train.shape[0]):\n",
        "  try:\n",
        "    l=float(train['Avg'][i])\n",
        "  except (IOError,SyntaxError,ValueError) as e:\n",
        "    print('{} Error'.format(i))  "
      ],
      "execution_count": 219,
      "outputs": [
        {
          "output_type": "stream",
          "text": [
            "44 Error\n",
            "57 Error\n",
            "81 Error\n"
          ],
          "name": "stdout"
        }
      ]
    },
    {
      "cell_type": "code",
      "metadata": {
        "id": "JxqgCYjgDTcL"
      },
      "source": [
        "train['Avg']=train['Avg'].replace('-',np.nan)"
      ],
      "execution_count": 220,
      "outputs": []
    },
    {
      "cell_type": "code",
      "metadata": {
        "id": "mN41hdXWD3y-",
        "outputId": "3bc981eb-2e93-4155-b427-6146ba3c5b21",
        "colab": {
          "base_uri": "https://localhost:8080/",
          "height": 281
        }
      },
      "source": [
        "train.isnull().sum(axis=0)"
      ],
      "execution_count": 221,
      "outputs": [
        {
          "output_type": "execute_result",
          "data": {
            "text/plain": [
              "PLAYER       0\n",
              "Mat          0\n",
              "Inns         0\n",
              "NO           0\n",
              "2018_Runs    0\n",
              "HS           0\n",
              "Avg          3\n",
              "BF           0\n",
              "SR           0\n",
              "100          0\n",
              "50           0\n",
              "4s           0\n",
              "6s           0\n",
              "2019_Runs    0\n",
              "dtype: int64"
            ]
          },
          "metadata": {
            "tags": []
          },
          "execution_count": 221
        }
      ]
    },
    {
      "cell_type": "code",
      "metadata": {
        "id": "x7Tyh8V0DHYG"
      },
      "source": [
        "train=train.dropna(axis=0)"
      ],
      "execution_count": 222,
      "outputs": []
    },
    {
      "cell_type": "code",
      "metadata": {
        "id": "J2ezR0Q5DtQY",
        "outputId": "401c8151-73aa-45b6-c726-e87fe1413cef",
        "colab": {
          "base_uri": "https://localhost:8080/",
          "height": 34
        }
      },
      "source": [
        "train.shape"
      ],
      "execution_count": 223,
      "outputs": [
        {
          "output_type": "execute_result",
          "data": {
            "text/plain": [
              "(97, 14)"
            ]
          },
          "metadata": {
            "tags": []
          },
          "execution_count": 223
        }
      ]
    },
    {
      "cell_type": "code",
      "metadata": {
        "id": "2ezd0RW4264t",
        "outputId": "14ee6970-6046-4c76-a93e-4b4b23c3f276",
        "colab": {
          "base_uri": "https://localhost:8080/",
          "height": 281
        }
      },
      "source": [
        "train.dtypes"
      ],
      "execution_count": 224,
      "outputs": [
        {
          "output_type": "execute_result",
          "data": {
            "text/plain": [
              "PLAYER        object\n",
              "Mat            int64\n",
              "Inns           int64\n",
              "NO             int64\n",
              "2018_Runs      int64\n",
              "HS             int64\n",
              "Avg          float64\n",
              "BF             int64\n",
              "SR           float64\n",
              "100            int64\n",
              "50             int64\n",
              "4s             int64\n",
              "6s             int64\n",
              "2019_Runs      int64\n",
              "dtype: object"
            ]
          },
          "metadata": {
            "tags": []
          },
          "execution_count": 224
        }
      ]
    },
    {
      "cell_type": "code",
      "metadata": {
        "id": "JWuMvilI343E",
        "outputId": "ede1b002-6e39-4be3-884a-2fe8995a3350",
        "colab": {
          "base_uri": "https://localhost:8080/",
          "height": 284
        }
      },
      "source": [
        "train.describe()"
      ],
      "execution_count": 225,
      "outputs": [
        {
          "output_type": "execute_result",
          "data": {
            "text/html": [
              "<div>\n",
              "<style scoped>\n",
              "    .dataframe tbody tr th:only-of-type {\n",
              "        vertical-align: middle;\n",
              "    }\n",
              "\n",
              "    .dataframe tbody tr th {\n",
              "        vertical-align: top;\n",
              "    }\n",
              "\n",
              "    .dataframe thead th {\n",
              "        text-align: right;\n",
              "    }\n",
              "</style>\n",
              "<table border=\"1\" class=\"dataframe\">\n",
              "  <thead>\n",
              "    <tr style=\"text-align: right;\">\n",
              "      <th></th>\n",
              "      <th>Mat</th>\n",
              "      <th>Inns</th>\n",
              "      <th>NO</th>\n",
              "      <th>2018_Runs</th>\n",
              "      <th>HS</th>\n",
              "      <th>Avg</th>\n",
              "      <th>BF</th>\n",
              "      <th>SR</th>\n",
              "      <th>100</th>\n",
              "      <th>50</th>\n",
              "      <th>4s</th>\n",
              "      <th>6s</th>\n",
              "      <th>2019_Runs</th>\n",
              "    </tr>\n",
              "  </thead>\n",
              "  <tbody>\n",
              "    <tr>\n",
              "      <th>count</th>\n",
              "      <td>97.000000</td>\n",
              "      <td>97.000000</td>\n",
              "      <td>97.000000</td>\n",
              "      <td>97.000000</td>\n",
              "      <td>97.000000</td>\n",
              "      <td>97.000000</td>\n",
              "      <td>97.000000</td>\n",
              "      <td>97.000000</td>\n",
              "      <td>97.000000</td>\n",
              "      <td>97.000000</td>\n",
              "      <td>97.000000</td>\n",
              "      <td>97.000000</td>\n",
              "      <td>97.000000</td>\n",
              "    </tr>\n",
              "    <tr>\n",
              "      <th>mean</th>\n",
              "      <td>10.536082</td>\n",
              "      <td>8.824742</td>\n",
              "      <td>1.804124</td>\n",
              "      <td>194.546392</td>\n",
              "      <td>48.350515</td>\n",
              "      <td>25.126289</td>\n",
              "      <td>139.701031</td>\n",
              "      <td>131.563505</td>\n",
              "      <td>0.051546</td>\n",
              "      <td>1.041237</td>\n",
              "      <td>16.835052</td>\n",
              "      <td>8.927835</td>\n",
              "      <td>189.587629</td>\n",
              "    </tr>\n",
              "    <tr>\n",
              "      <th>std</th>\n",
              "      <td>4.406581</td>\n",
              "      <td>4.455826</td>\n",
              "      <td>1.705623</td>\n",
              "      <td>182.724122</td>\n",
              "      <td>27.877351</td>\n",
              "      <td>14.870974</td>\n",
              "      <td>122.992476</td>\n",
              "      <td>28.738455</td>\n",
              "      <td>0.265013</td>\n",
              "      <td>1.657794</td>\n",
              "      <td>17.944173</td>\n",
              "      <td>9.417678</td>\n",
              "      <td>173.258823</td>\n",
              "    </tr>\n",
              "    <tr>\n",
              "      <th>min</th>\n",
              "      <td>2.000000</td>\n",
              "      <td>2.000000</td>\n",
              "      <td>0.000000</td>\n",
              "      <td>13.000000</td>\n",
              "      <td>7.000000</td>\n",
              "      <td>3.000000</td>\n",
              "      <td>12.000000</td>\n",
              "      <td>71.420000</td>\n",
              "      <td>0.000000</td>\n",
              "      <td>0.000000</td>\n",
              "      <td>0.000000</td>\n",
              "      <td>0.000000</td>\n",
              "      <td>9.000000</td>\n",
              "    </tr>\n",
              "    <tr>\n",
              "      <th>25%</th>\n",
              "      <td>6.000000</td>\n",
              "      <td>4.000000</td>\n",
              "      <td>1.000000</td>\n",
              "      <td>52.000000</td>\n",
              "      <td>27.000000</td>\n",
              "      <td>13.750000</td>\n",
              "      <td>40.000000</td>\n",
              "      <td>115.940000</td>\n",
              "      <td>0.000000</td>\n",
              "      <td>0.000000</td>\n",
              "      <td>3.000000</td>\n",
              "      <td>1.000000</td>\n",
              "      <td>40.000000</td>\n",
              "    </tr>\n",
              "    <tr>\n",
              "      <th>50%</th>\n",
              "      <td>11.000000</td>\n",
              "      <td>8.000000</td>\n",
              "      <td>1.000000</td>\n",
              "      <td>122.000000</td>\n",
              "      <td>45.000000</td>\n",
              "      <td>22.800000</td>\n",
              "      <td>91.000000</td>\n",
              "      <td>132.580000</td>\n",
              "      <td>0.000000</td>\n",
              "      <td>0.000000</td>\n",
              "      <td>9.000000</td>\n",
              "      <td>6.000000</td>\n",
              "      <td>115.000000</td>\n",
              "    </tr>\n",
              "    <tr>\n",
              "      <th>75%</th>\n",
              "      <td>14.000000</td>\n",
              "      <td>13.000000</td>\n",
              "      <td>3.000000</td>\n",
              "      <td>286.000000</td>\n",
              "      <td>65.000000</td>\n",
              "      <td>32.400000</td>\n",
              "      <td>200.000000</td>\n",
              "      <td>149.450000</td>\n",
              "      <td>0.000000</td>\n",
              "      <td>1.000000</td>\n",
              "      <td>24.000000</td>\n",
              "      <td>12.000000</td>\n",
              "      <td>342.000000</td>\n",
              "    </tr>\n",
              "    <tr>\n",
              "      <th>max</th>\n",
              "      <td>17.000000</td>\n",
              "      <td>17.000000</td>\n",
              "      <td>9.000000</td>\n",
              "      <td>735.000000</td>\n",
              "      <td>128.000000</td>\n",
              "      <td>75.830000</td>\n",
              "      <td>516.000000</td>\n",
              "      <td>196.870000</td>\n",
              "      <td>2.000000</td>\n",
              "      <td>8.000000</td>\n",
              "      <td>68.000000</td>\n",
              "      <td>37.000000</td>\n",
              "      <td>692.000000</td>\n",
              "    </tr>\n",
              "  </tbody>\n",
              "</table>\n",
              "</div>"
            ],
            "text/plain": [
              "             Mat       Inns         NO  ...         4s         6s   2019_Runs\n",
              "count  97.000000  97.000000  97.000000  ...  97.000000  97.000000   97.000000\n",
              "mean   10.536082   8.824742   1.804124  ...  16.835052   8.927835  189.587629\n",
              "std     4.406581   4.455826   1.705623  ...  17.944173   9.417678  173.258823\n",
              "min     2.000000   2.000000   0.000000  ...   0.000000   0.000000    9.000000\n",
              "25%     6.000000   4.000000   1.000000  ...   3.000000   1.000000   40.000000\n",
              "50%    11.000000   8.000000   1.000000  ...   9.000000   6.000000  115.000000\n",
              "75%    14.000000  13.000000   3.000000  ...  24.000000  12.000000  342.000000\n",
              "max    17.000000  17.000000   9.000000  ...  68.000000  37.000000  692.000000\n",
              "\n",
              "[8 rows x 13 columns]"
            ]
          },
          "metadata": {
            "tags": []
          },
          "execution_count": 225
        }
      ]
    },
    {
      "cell_type": "code",
      "metadata": {
        "id": "5ze_f5BCzPMs",
        "outputId": "b449dc24-83d4-49d1-d7bf-76b32bea75d7",
        "colab": {
          "base_uri": "https://localhost:8080/",
          "height": 263
        }
      },
      "source": [
        "train.info"
      ],
      "execution_count": 226,
      "outputs": [
        {
          "output_type": "execute_result",
          "data": {
            "text/plain": [
              "<bound method DataFrame.info of                PLAYER  Mat  Inns  NO  2018_Runs  ...  100  50  4s  6s  2019_Runs\n",
              "0         Aaron Finch   10     9   1        134  ...    0   0   6   8        160\n",
              "1      AB de Villiers   12    11   2        480  ...    0   6  39  30        424\n",
              "2     Abhishek Sharma    3     3   2         63  ...    0   0   3   5         63\n",
              "3      Ajinkya Rahane   15    14   1        370  ...    0   1  39   5        396\n",
              "4          Alex Hales    6     6   0        148  ...    0   0  13   6        165\n",
              "..                ...  ...   ...  ..        ...  ...  ...  ..  ..  ..        ...\n",
              "95        Virat Kohli   14    14   3        530  ...    0   4  52  18        488\n",
              "96  Washington Sundar    7     6   3         65  ...    0   0   5   4         64\n",
              "97    Wriddhiman Saha   11    10   2        122  ...    0   0  17   1        115\n",
              "98       Yusuf Pathan   15    13   4        260  ...    0   0  22  11        296\n",
              "99       Yuvraj Singh    8     6   0         65  ...    0   0   6   2         67\n",
              "\n",
              "[97 rows x 14 columns]>"
            ]
          },
          "metadata": {
            "tags": []
          },
          "execution_count": 226
        }
      ]
    },
    {
      "cell_type": "code",
      "metadata": {
        "id": "EnmuGi5j7cgo"
      },
      "source": [
        "train.drop(['PLAYER'],axis=1,inplace=True)"
      ],
      "execution_count": 227,
      "outputs": []
    },
    {
      "cell_type": "code",
      "metadata": {
        "id": "BAQrI_fRBZmO",
        "outputId": "c3e6d446-db66-44d1-d279-0e3762498612",
        "colab": {
          "base_uri": "https://localhost:8080/",
          "height": 195
        }
      },
      "source": [
        "train.head()"
      ],
      "execution_count": 228,
      "outputs": [
        {
          "output_type": "execute_result",
          "data": {
            "text/html": [
              "<div>\n",
              "<style scoped>\n",
              "    .dataframe tbody tr th:only-of-type {\n",
              "        vertical-align: middle;\n",
              "    }\n",
              "\n",
              "    .dataframe tbody tr th {\n",
              "        vertical-align: top;\n",
              "    }\n",
              "\n",
              "    .dataframe thead th {\n",
              "        text-align: right;\n",
              "    }\n",
              "</style>\n",
              "<table border=\"1\" class=\"dataframe\">\n",
              "  <thead>\n",
              "    <tr style=\"text-align: right;\">\n",
              "      <th></th>\n",
              "      <th>Mat</th>\n",
              "      <th>Inns</th>\n",
              "      <th>NO</th>\n",
              "      <th>2018_Runs</th>\n",
              "      <th>HS</th>\n",
              "      <th>Avg</th>\n",
              "      <th>BF</th>\n",
              "      <th>SR</th>\n",
              "      <th>100</th>\n",
              "      <th>50</th>\n",
              "      <th>4s</th>\n",
              "      <th>6s</th>\n",
              "      <th>2019_Runs</th>\n",
              "    </tr>\n",
              "  </thead>\n",
              "  <tbody>\n",
              "    <tr>\n",
              "      <th>0</th>\n",
              "      <td>10</td>\n",
              "      <td>9</td>\n",
              "      <td>1</td>\n",
              "      <td>134</td>\n",
              "      <td>46</td>\n",
              "      <td>16.75</td>\n",
              "      <td>100</td>\n",
              "      <td>134.00</td>\n",
              "      <td>0</td>\n",
              "      <td>0</td>\n",
              "      <td>6</td>\n",
              "      <td>8</td>\n",
              "      <td>160</td>\n",
              "    </tr>\n",
              "    <tr>\n",
              "      <th>1</th>\n",
              "      <td>12</td>\n",
              "      <td>11</td>\n",
              "      <td>2</td>\n",
              "      <td>480</td>\n",
              "      <td>90</td>\n",
              "      <td>53.33</td>\n",
              "      <td>275</td>\n",
              "      <td>174.54</td>\n",
              "      <td>0</td>\n",
              "      <td>6</td>\n",
              "      <td>39</td>\n",
              "      <td>30</td>\n",
              "      <td>424</td>\n",
              "    </tr>\n",
              "    <tr>\n",
              "      <th>2</th>\n",
              "      <td>3</td>\n",
              "      <td>3</td>\n",
              "      <td>2</td>\n",
              "      <td>63</td>\n",
              "      <td>46</td>\n",
              "      <td>63.00</td>\n",
              "      <td>33</td>\n",
              "      <td>190.90</td>\n",
              "      <td>0</td>\n",
              "      <td>0</td>\n",
              "      <td>3</td>\n",
              "      <td>5</td>\n",
              "      <td>63</td>\n",
              "    </tr>\n",
              "    <tr>\n",
              "      <th>3</th>\n",
              "      <td>15</td>\n",
              "      <td>14</td>\n",
              "      <td>1</td>\n",
              "      <td>370</td>\n",
              "      <td>65</td>\n",
              "      <td>28.46</td>\n",
              "      <td>313</td>\n",
              "      <td>118.21</td>\n",
              "      <td>0</td>\n",
              "      <td>1</td>\n",
              "      <td>39</td>\n",
              "      <td>5</td>\n",
              "      <td>396</td>\n",
              "    </tr>\n",
              "    <tr>\n",
              "      <th>4</th>\n",
              "      <td>6</td>\n",
              "      <td>6</td>\n",
              "      <td>0</td>\n",
              "      <td>148</td>\n",
              "      <td>45</td>\n",
              "      <td>24.66</td>\n",
              "      <td>118</td>\n",
              "      <td>125.42</td>\n",
              "      <td>0</td>\n",
              "      <td>0</td>\n",
              "      <td>13</td>\n",
              "      <td>6</td>\n",
              "      <td>165</td>\n",
              "    </tr>\n",
              "  </tbody>\n",
              "</table>\n",
              "</div>"
            ],
            "text/plain": [
              "   Mat  Inns  NO  2018_Runs  HS    Avg   BF      SR  100  50  4s  6s  2019_Runs\n",
              "0   10     9   1        134  46  16.75  100  134.00    0   0   6   8        160\n",
              "1   12    11   2        480  90  53.33  275  174.54    0   6  39  30        424\n",
              "2    3     3   2         63  46  63.00   33  190.90    0   0   3   5         63\n",
              "3   15    14   1        370  65  28.46  313  118.21    0   1  39   5        396\n",
              "4    6     6   0        148  45  24.66  118  125.42    0   0  13   6        165"
            ]
          },
          "metadata": {
            "tags": []
          },
          "execution_count": 228
        }
      ]
    },
    {
      "cell_type": "code",
      "metadata": {
        "id": "x2fRrkNgBtI4"
      },
      "source": [
        "train=train.sort_values('2018_Runs',axis=0,ascending=False)"
      ],
      "execution_count": 229,
      "outputs": []
    },
    {
      "cell_type": "code",
      "metadata": {
        "id": "7xAbJBbXCFnY",
        "outputId": "a2df2955-3cd4-47ad-e162-8e5c099e7180",
        "colab": {
          "base_uri": "https://localhost:8080/",
          "height": 195
        }
      },
      "source": [
        "train.head()"
      ],
      "execution_count": 230,
      "outputs": [
        {
          "output_type": "execute_result",
          "data": {
            "text/html": [
              "<div>\n",
              "<style scoped>\n",
              "    .dataframe tbody tr th:only-of-type {\n",
              "        vertical-align: middle;\n",
              "    }\n",
              "\n",
              "    .dataframe tbody tr th {\n",
              "        vertical-align: top;\n",
              "    }\n",
              "\n",
              "    .dataframe thead th {\n",
              "        text-align: right;\n",
              "    }\n",
              "</style>\n",
              "<table border=\"1\" class=\"dataframe\">\n",
              "  <thead>\n",
              "    <tr style=\"text-align: right;\">\n",
              "      <th></th>\n",
              "      <th>Mat</th>\n",
              "      <th>Inns</th>\n",
              "      <th>NO</th>\n",
              "      <th>2018_Runs</th>\n",
              "      <th>HS</th>\n",
              "      <th>Avg</th>\n",
              "      <th>BF</th>\n",
              "      <th>SR</th>\n",
              "      <th>100</th>\n",
              "      <th>50</th>\n",
              "      <th>4s</th>\n",
              "      <th>6s</th>\n",
              "      <th>2019_Runs</th>\n",
              "    </tr>\n",
              "  </thead>\n",
              "  <tbody>\n",
              "    <tr>\n",
              "      <th>42</th>\n",
              "      <td>17</td>\n",
              "      <td>17</td>\n",
              "      <td>3</td>\n",
              "      <td>735</td>\n",
              "      <td>84</td>\n",
              "      <td>52.50</td>\n",
              "      <td>516</td>\n",
              "      <td>142.44</td>\n",
              "      <td>0</td>\n",
              "      <td>8</td>\n",
              "      <td>64</td>\n",
              "      <td>28</td>\n",
              "      <td>692</td>\n",
              "    </tr>\n",
              "    <tr>\n",
              "      <th>73</th>\n",
              "      <td>14</td>\n",
              "      <td>14</td>\n",
              "      <td>1</td>\n",
              "      <td>684</td>\n",
              "      <td>128</td>\n",
              "      <td>52.61</td>\n",
              "      <td>394</td>\n",
              "      <td>173.60</td>\n",
              "      <td>1</td>\n",
              "      <td>5</td>\n",
              "      <td>68</td>\n",
              "      <td>37</td>\n",
              "      <td>593</td>\n",
              "    </tr>\n",
              "    <tr>\n",
              "      <th>46</th>\n",
              "      <td>14</td>\n",
              "      <td>14</td>\n",
              "      <td>2</td>\n",
              "      <td>659</td>\n",
              "      <td>95</td>\n",
              "      <td>54.91</td>\n",
              "      <td>416</td>\n",
              "      <td>158.41</td>\n",
              "      <td>0</td>\n",
              "      <td>6</td>\n",
              "      <td>66</td>\n",
              "      <td>32</td>\n",
              "      <td>529</td>\n",
              "    </tr>\n",
              "    <tr>\n",
              "      <th>5</th>\n",
              "      <td>16</td>\n",
              "      <td>16</td>\n",
              "      <td>2</td>\n",
              "      <td>602</td>\n",
              "      <td>100</td>\n",
              "      <td>43.00</td>\n",
              "      <td>402</td>\n",
              "      <td>149.75</td>\n",
              "      <td>1</td>\n",
              "      <td>3</td>\n",
              "      <td>53</td>\n",
              "      <td>34</td>\n",
              "      <td>521</td>\n",
              "    </tr>\n",
              "    <tr>\n",
              "      <th>80</th>\n",
              "      <td>15</td>\n",
              "      <td>15</td>\n",
              "      <td>1</td>\n",
              "      <td>555</td>\n",
              "      <td>117</td>\n",
              "      <td>39.64</td>\n",
              "      <td>359</td>\n",
              "      <td>154.59</td>\n",
              "      <td>2</td>\n",
              "      <td>2</td>\n",
              "      <td>44</td>\n",
              "      <td>35</td>\n",
              "      <td>510</td>\n",
              "    </tr>\n",
              "  </tbody>\n",
              "</table>\n",
              "</div>"
            ],
            "text/plain": [
              "    Mat  Inns  NO  2018_Runs   HS    Avg  ...      SR  100  50  4s  6s  2019_Runs\n",
              "42   17    17   3        735   84  52.50  ...  142.44    0   8  64  28        692\n",
              "73   14    14   1        684  128  52.61  ...  173.60    1   5  68  37        593\n",
              "46   14    14   2        659   95  54.91  ...  158.41    0   6  66  32        529\n",
              "5    16    16   2        602  100  43.00  ...  149.75    1   3  53  34        521\n",
              "80   15    15   1        555  117  39.64  ...  154.59    2   2  44  35        510\n",
              "\n",
              "[5 rows x 13 columns]"
            ]
          },
          "metadata": {
            "tags": []
          },
          "execution_count": 230
        }
      ]
    },
    {
      "cell_type": "code",
      "metadata": {
        "id": "s2ojHDgDH2EF",
        "outputId": "96b979a4-e9eb-4ebd-8565-c10e189d6d39",
        "colab": {
          "base_uri": "https://localhost:8080/",
          "height": 297
        }
      },
      "source": [
        "sns.scatterplot(x='Inns',y='2019_Runs',data=train)"
      ],
      "execution_count": 231,
      "outputs": [
        {
          "output_type": "execute_result",
          "data": {
            "text/plain": [
              "<matplotlib.axes._subplots.AxesSubplot at 0x7fbcb9fcd7b8>"
            ]
          },
          "metadata": {
            "tags": []
          },
          "execution_count": 231
        },
        {
          "output_type": "display_data",
          "data": {
            "image/png": "[encoded data removed]",
            "text/plain": [
              "<Figure size 432x288 with 1 Axes>"
            ]
          },
          "metadata": {
            "tags": [],
            "needs_background": "light"
          }
        }
      ]
    },
    {
      "cell_type": "code",
      "metadata": {
        "id": "S0P5Td051-NV",
        "outputId": "a3c4b913-68d9-43eb-87ad-13ca2d4d40a1",
        "colab": {
          "base_uri": "https://localhost:8080/",
          "height": 386
        }
      },
      "source": [
        "sns.displot(data=train,x='2018_Runs')"
      ],
      "execution_count": 232,
      "outputs": [
        {
          "output_type": "execute_result",
          "data": {
            "text/plain": [
              "<seaborn.axisgrid.FacetGrid at 0x7fbcb9eff080>"
            ]
          },
          "metadata": {
            "tags": []
          },
          "execution_count": 232
        },
        {
          "output_type": "display_data",
          "data": {
            "image/png": "[encoded data removed]",
            "text/plain": [
              "<Figure size 360x360 with 1 Axes>"
            ]
          },
          "metadata": {
            "tags": [],
            "needs_background": "light"
          }
        }
      ]
    },
    {
      "cell_type": "code",
      "metadata": {
        "id": "IfxJWgE-5ETI",
        "outputId": "dfdb402d-800c-4725-bc62-8e6d2f121e72",
        "colab": {
          "base_uri": "https://localhost:8080/",
          "height": 432
        }
      },
      "source": [
        "train[train.columns].corr()"
      ],
      "execution_count": 233,
      "outputs": [
        {
          "output_type": "execute_result",
          "data": {
            "text/html": [
              "<div>\n",
              "<style scoped>\n",
              "    .dataframe tbody tr th:only-of-type {\n",
              "        vertical-align: middle;\n",
              "    }\n",
              "\n",
              "    .dataframe tbody tr th {\n",
              "        vertical-align: top;\n",
              "    }\n",
              "\n",
              "    .dataframe thead th {\n",
              "        text-align: right;\n",
              "    }\n",
              "</style>\n",
              "<table border=\"1\" class=\"dataframe\">\n",
              "  <thead>\n",
              "    <tr style=\"text-align: right;\">\n",
              "      <th></th>\n",
              "      <th>Mat</th>\n",
              "      <th>Inns</th>\n",
              "      <th>NO</th>\n",
              "      <th>2018_Runs</th>\n",
              "      <th>HS</th>\n",
              "      <th>Avg</th>\n",
              "      <th>BF</th>\n",
              "      <th>SR</th>\n",
              "      <th>100</th>\n",
              "      <th>50</th>\n",
              "      <th>4s</th>\n",
              "      <th>6s</th>\n",
              "      <th>2019_Runs</th>\n",
              "    </tr>\n",
              "  </thead>\n",
              "  <tbody>\n",
              "    <tr>\n",
              "      <th>Mat</th>\n",
              "      <td>1.000000</td>\n",
              "      <td>0.833501</td>\n",
              "      <td>0.427126</td>\n",
              "      <td>0.624641</td>\n",
              "      <td>0.456607</td>\n",
              "      <td>0.235601</td>\n",
              "      <td>0.631822</td>\n",
              "      <td>0.227750</td>\n",
              "      <td>0.163409</td>\n",
              "      <td>0.464645</td>\n",
              "      <td>0.579845</td>\n",
              "      <td>0.556166</td>\n",
              "      <td>0.650332</td>\n",
              "    </tr>\n",
              "    <tr>\n",
              "      <th>Inns</th>\n",
              "      <td>0.833501</td>\n",
              "      <td>1.000000</td>\n",
              "      <td>0.331238</td>\n",
              "      <td>0.854077</td>\n",
              "      <td>0.702818</td>\n",
              "      <td>0.443015</td>\n",
              "      <td>0.865252</td>\n",
              "      <td>0.343782</td>\n",
              "      <td>0.237084</td>\n",
              "      <td>0.648254</td>\n",
              "      <td>0.804764</td>\n",
              "      <td>0.754815</td>\n",
              "      <td>0.888521</td>\n",
              "    </tr>\n",
              "    <tr>\n",
              "      <th>NO</th>\n",
              "      <td>0.427126</td>\n",
              "      <td>0.331238</td>\n",
              "      <td>1.000000</td>\n",
              "      <td>0.189857</td>\n",
              "      <td>0.095881</td>\n",
              "      <td>0.435336</td>\n",
              "      <td>0.177733</td>\n",
              "      <td>0.138880</td>\n",
              "      <td>-0.046565</td>\n",
              "      <td>0.139193</td>\n",
              "      <td>0.094231</td>\n",
              "      <td>0.178094</td>\n",
              "      <td>0.189189</td>\n",
              "    </tr>\n",
              "    <tr>\n",
              "      <th>2018_Runs</th>\n",
              "      <td>0.624641</td>\n",
              "      <td>0.854077</td>\n",
              "      <td>0.189857</td>\n",
              "      <td>1.000000</td>\n",
              "      <td>0.855607</td>\n",
              "      <td>0.689465</td>\n",
              "      <td>0.987251</td>\n",
              "      <td>0.397633</td>\n",
              "      <td>0.385324</td>\n",
              "      <td>0.892284</td>\n",
              "      <td>0.965393</td>\n",
              "      <td>0.897170</td>\n",
              "      <td>0.987099</td>\n",
              "    </tr>\n",
              "    <tr>\n",
              "      <th>HS</th>\n",
              "      <td>0.456607</td>\n",
              "      <td>0.702818</td>\n",
              "      <td>0.095881</td>\n",
              "      <td>0.855607</td>\n",
              "      <td>1.000000</td>\n",
              "      <td>0.676974</td>\n",
              "      <td>0.825975</td>\n",
              "      <td>0.534405</td>\n",
              "      <td>0.457179</td>\n",
              "      <td>0.783387</td>\n",
              "      <td>0.796991</td>\n",
              "      <td>0.851238</td>\n",
              "      <td>0.859488</td>\n",
              "    </tr>\n",
              "    <tr>\n",
              "      <th>Avg</th>\n",
              "      <td>0.235601</td>\n",
              "      <td>0.443015</td>\n",
              "      <td>0.435336</td>\n",
              "      <td>0.689465</td>\n",
              "      <td>0.676974</td>\n",
              "      <td>1.000000</td>\n",
              "      <td>0.652837</td>\n",
              "      <td>0.542230</td>\n",
              "      <td>0.238250</td>\n",
              "      <td>0.656375</td>\n",
              "      <td>0.614654</td>\n",
              "      <td>0.669347</td>\n",
              "      <td>0.667500</td>\n",
              "    </tr>\n",
              "    <tr>\n",
              "      <th>BF</th>\n",
              "      <td>0.631822</td>\n",
              "      <td>0.865252</td>\n",
              "      <td>0.177733</td>\n",
              "      <td>0.987251</td>\n",
              "      <td>0.825975</td>\n",
              "      <td>0.652837</td>\n",
              "      <td>1.000000</td>\n",
              "      <td>0.307166</td>\n",
              "      <td>0.341153</td>\n",
              "      <td>0.873565</td>\n",
              "      <td>0.959996</td>\n",
              "      <td>0.837925</td>\n",
              "      <td>0.981193</td>\n",
              "    </tr>\n",
              "    <tr>\n",
              "      <th>SR</th>\n",
              "      <td>0.227750</td>\n",
              "      <td>0.343782</td>\n",
              "      <td>0.138880</td>\n",
              "      <td>0.397633</td>\n",
              "      <td>0.534405</td>\n",
              "      <td>0.542230</td>\n",
              "      <td>0.307166</td>\n",
              "      <td>1.000000</td>\n",
              "      <td>0.165142</td>\n",
              "      <td>0.310039</td>\n",
              "      <td>0.338695</td>\n",
              "      <td>0.531747</td>\n",
              "      <td>0.410109</td>\n",
              "    </tr>\n",
              "    <tr>\n",
              "      <th>100</th>\n",
              "      <td>0.163409</td>\n",
              "      <td>0.237084</td>\n",
              "      <td>-0.046565</td>\n",
              "      <td>0.385324</td>\n",
              "      <td>0.457179</td>\n",
              "      <td>0.238250</td>\n",
              "      <td>0.341153</td>\n",
              "      <td>0.165142</td>\n",
              "      <td>1.000000</td>\n",
              "      <td>0.232211</td>\n",
              "      <td>0.339139</td>\n",
              "      <td>0.514867</td>\n",
              "      <td>0.358233</td>\n",
              "    </tr>\n",
              "    <tr>\n",
              "      <th>50</th>\n",
              "      <td>0.464645</td>\n",
              "      <td>0.648254</td>\n",
              "      <td>0.139193</td>\n",
              "      <td>0.892284</td>\n",
              "      <td>0.783387</td>\n",
              "      <td>0.656375</td>\n",
              "      <td>0.873565</td>\n",
              "      <td>0.310039</td>\n",
              "      <td>0.232211</td>\n",
              "      <td>1.000000</td>\n",
              "      <td>0.870395</td>\n",
              "      <td>0.778812</td>\n",
              "      <td>0.857140</td>\n",
              "    </tr>\n",
              "    <tr>\n",
              "      <th>4s</th>\n",
              "      <td>0.579845</td>\n",
              "      <td>0.804764</td>\n",
              "      <td>0.094231</td>\n",
              "      <td>0.965393</td>\n",
              "      <td>0.796991</td>\n",
              "      <td>0.614654</td>\n",
              "      <td>0.959996</td>\n",
              "      <td>0.338695</td>\n",
              "      <td>0.339139</td>\n",
              "      <td>0.870395</td>\n",
              "      <td>1.000000</td>\n",
              "      <td>0.798904</td>\n",
              "      <td>0.944448</td>\n",
              "    </tr>\n",
              "    <tr>\n",
              "      <th>6s</th>\n",
              "      <td>0.556166</td>\n",
              "      <td>0.754815</td>\n",
              "      <td>0.178094</td>\n",
              "      <td>0.897170</td>\n",
              "      <td>0.851238</td>\n",
              "      <td>0.669347</td>\n",
              "      <td>0.837925</td>\n",
              "      <td>0.531747</td>\n",
              "      <td>0.514867</td>\n",
              "      <td>0.778812</td>\n",
              "      <td>0.798904</td>\n",
              "      <td>1.000000</td>\n",
              "      <td>0.888532</td>\n",
              "    </tr>\n",
              "    <tr>\n",
              "      <th>2019_Runs</th>\n",
              "      <td>0.650332</td>\n",
              "      <td>0.888521</td>\n",
              "      <td>0.189189</td>\n",
              "      <td>0.987099</td>\n",
              "      <td>0.859488</td>\n",
              "      <td>0.667500</td>\n",
              "      <td>0.981193</td>\n",
              "      <td>0.410109</td>\n",
              "      <td>0.358233</td>\n",
              "      <td>0.857140</td>\n",
              "      <td>0.944448</td>\n",
              "      <td>0.888532</td>\n",
              "      <td>1.000000</td>\n",
              "    </tr>\n",
              "  </tbody>\n",
              "</table>\n",
              "</div>"
            ],
            "text/plain": [
              "                Mat      Inns        NO  ...        4s        6s  2019_Runs\n",
              "Mat        1.000000  0.833501  0.427126  ...  0.579845  0.556166   0.650332\n",
              "Inns       0.833501  1.000000  0.331238  ...  0.804764  0.754815   0.888521\n",
              "NO         0.427126  0.331238  1.000000  ...  0.094231  0.178094   0.189189\n",
              "2018_Runs  0.624641  0.854077  0.189857  ...  0.965393  0.897170   0.987099\n",
              "HS         0.456607  0.702818  0.095881  ...  0.796991  0.851238   0.859488\n",
              "Avg        0.235601  0.443015  0.435336  ...  0.614654  0.669347   0.667500\n",
              "BF         0.631822  0.865252  0.177733  ...  0.959996  0.837925   0.981193\n",
              "SR         0.227750  0.343782  0.138880  ...  0.338695  0.531747   0.410109\n",
              "100        0.163409  0.237084 -0.046565  ...  0.339139  0.514867   0.358233\n",
              "50         0.464645  0.648254  0.139193  ...  0.870395  0.778812   0.857140\n",
              "4s         0.579845  0.804764  0.094231  ...  1.000000  0.798904   0.944448\n",
              "6s         0.556166  0.754815  0.178094  ...  0.798904  1.000000   0.888532\n",
              "2019_Runs  0.650332  0.888521  0.189189  ...  0.944448  0.888532   1.000000\n",
              "\n",
              "[13 rows x 13 columns]"
            ]
          },
          "metadata": {
            "tags": []
          },
          "execution_count": 233
        }
      ]
    },
    {
      "cell_type": "code",
      "metadata": {
        "id": "QD8LPtkx16Oz"
      },
      "source": [
        "train = train.drop(['Avg','SR'],axis=1)"
      ],
      "execution_count": 234,
      "outputs": []
    },
    {
      "cell_type": "code",
      "metadata": {
        "id": "B8XAs1aLTL2_"
      },
      "source": [
        "X = train.iloc[:,:-1]"
      ],
      "execution_count": 235,
      "outputs": []
    },
    {
      "cell_type": "code",
      "metadata": {
        "id": "2SzTr3msWXGp"
      },
      "source": [
        "Y = train.iloc[:,-1]"
      ],
      "execution_count": 236,
      "outputs": []
    },
    {
      "cell_type": "code",
      "metadata": {
        "id": "OB8fidOWUJSU",
        "outputId": "a99c9562-6f72-4782-a402-9d4030612df2",
        "colab": {
          "base_uri": "https://localhost:8080/",
          "height": 228
        }
      },
      "source": [
        "Y"
      ],
      "execution_count": 237,
      "outputs": [
        {
          "output_type": "execute_result",
          "data": {
            "text/plain": [
              "42    692\n",
              "73    593\n",
              "46    529\n",
              "5     521\n",
              "80    510\n",
              "     ... \n",
              "17     12\n",
              "20     11\n",
              "39      9\n",
              "11      9\n",
              "83      9\n",
              "Name: 2019_Runs, Length: 97, dtype: int64"
            ]
          },
          "metadata": {
            "tags": []
          },
          "execution_count": 237
        }
      ]
    },
    {
      "cell_type": "code",
      "metadata": {
        "id": "Kkj12wi181hO"
      },
      "source": [
        "from sklearn.preprocessing import StandardScaler"
      ],
      "execution_count": 238,
      "outputs": []
    },
    {
      "cell_type": "code",
      "metadata": {
        "id": "y4cMUaKzIos2"
      },
      "source": [
        "scaler=StandardScaler()\n",
        "data_scaled = scaler.fit_transform(X)"
      ],
      "execution_count": 239,
      "outputs": []
    },
    {
      "cell_type": "code",
      "metadata": {
        "id": "K4fXEwLsJArx",
        "outputId": "7fd0ec8c-ad4d-40fc-ca3e-8a9889711d33",
        "colab": {
          "base_uri": "https://localhost:8080/",
          "height": 1000
        }
      },
      "source": [
        "data_scaled"
      ],
      "execution_count": 240,
      "outputs": [
        {
          "output_type": "execute_result",
          "data": {
            "text/plain": [
              "array([[ 1.47449841e+00,  1.84426584e+00,  7.04779863e-01,\n",
              "         2.97312240e+00,  1.28544057e+00,  3.07542211e+00,\n",
              "        -1.95515472e-01,  4.21940933e+00,  2.64208125e+00,\n",
              "         2.03566551e+00],\n",
              "       [ 7.90161827e-01,  1.16749238e+00, -4.73903701e-01,\n",
              "         2.69256318e+00,  2.87198203e+00,  2.07833860e+00,\n",
              "         3.59748468e+00,  2.40037509e+00,  2.86615284e+00,\n",
              "         2.99627955e+00],\n",
              "       [ 7.90161827e-01,  1.16749238e+00,  1.15438081e-01,\n",
              "         2.55503415e+00,  1.68207594e+00,  2.25814055e+00,\n",
              "        -1.95515472e-01,  3.00671984e+00,  2.75411704e+00,\n",
              "         2.46260508e+00],\n",
              "       [ 1.24638622e+00,  1.61867469e+00,  1.15438081e-01,\n",
              "         2.24146796e+00,  1.86236474e+00,  2.14372113e+00,\n",
              "         3.59748468e+00,  1.18768559e+00,  2.02588438e+00,\n",
              "         2.67607487e+00],\n",
              "       [ 1.01827402e+00,  1.39308353e+00, -4.73903701e-01,\n",
              "         1.98291339e+00,  2.47534667e+00,  1.79229005e+00,\n",
              "         7.39048483e+00,  5.81340842e-01,  1.52172330e+00,\n",
              "         2.78280977e+00],\n",
              "       [ 5.62049633e-01,  9.41901219e-01,  7.04779863e-01,\n",
              "         1.94440526e+00,  1.68207594e+00,  1.74325316e+00,\n",
              "        -1.95515472e-01,  2.40037509e+00,  1.96986648e+00,\n",
              "         1.28852125e+00],\n",
              "       [ 7.90161827e-01,  1.16749238e+00,  7.04779863e-01,\n",
              "         1.84538436e+00,  1.57390266e+00,  1.97209200e+00,\n",
              "        -1.95515472e-01,  1.79403034e+00,  1.96986648e+00,\n",
              "         9.68316565e-01],\n",
              "       [ 7.90161827e-01,  1.16749238e+00, -1.06324548e+00,\n",
              "         1.74636346e+00,  8.52747448e-01,  1.99661044e+00,\n",
              "        -1.95515472e-01,  1.79403034e+00,  2.47402756e+00,\n",
              "         7.54846777e-01],\n",
              "       [ 1.24638622e+00,  1.61867469e+00,  2.47280521e+00,\n",
              "         1.66934720e+00,  1.31592239e-01,  1.61248811e+00,\n",
              "        -1.95515472e-01,  5.81340842e-01,  1.80181279e+00,\n",
              "         7.54846777e-01],\n",
              "       [ 1.24638622e+00,  1.61867469e+00,  7.04779863e-01,\n",
              "         1.66384604e+00,  1.57390266e+00,  1.82498132e+00,\n",
              "        -1.95515472e-01,  1.79403034e+00,  2.36199176e+00,\n",
              "         5.41376989e-01],\n",
              "       [ 1.24638622e+00,  1.61867469e+00, -4.73903701e-01,\n",
              "         1.63083907e+00,  9.24862969e-01,  1.93940074e+00,\n",
              "        -1.95515472e-01,  1.18768559e+00,  2.19393807e+00,\n",
              "         9.68316565e-01],\n",
              "       [ 3.33937439e-01,  4.90718907e-01,  1.15438081e-01,\n",
              "         1.57032630e+00,  1.50178714e+00,  1.10577354e+00,\n",
              "        -1.95515472e-01,  3.00671984e+00,  1.24163381e+00,\n",
              "         2.24913530e+00],\n",
              "       [ 1.24638622e+00,  1.39308353e+00,  4.24083055e+00,\n",
              "         1.43279727e+00,  1.10515177e+00,  1.32643956e+00,\n",
              "        -1.95515472e-01,  1.18768559e+00,  4.01365348e-01,\n",
              "         2.24913530e+00],\n",
              "       [ 1.01827402e+00,  1.39308353e+00,  7.04779863e-01,\n",
              "         1.37778566e+00,  9.60920729e-01,  1.60431529e+00,\n",
              "        -1.95515472e-01,  1.79403034e+00,  1.63375909e+00,\n",
              "         3.27907201e-01],\n",
              "       [ 1.01827402e+00,  1.39308353e+00, -4.73903701e-01,\n",
              "         1.35578102e+00,  1.57390266e+00,  1.47355024e+00,\n",
              "        -1.95515472e-01,  1.18768559e+00,  7.37472733e-01,\n",
              "         1.07505146e+00],\n",
              "       [ 7.90161827e-01,  1.16749238e+00,  7.04779863e-01,\n",
              "         1.19074618e+00,  1.60996042e+00,  1.39182208e+00,\n",
              "        -1.95515472e-01,  1.79403034e+00,  6.81454836e-01,\n",
              "         1.28852125e+00],\n",
              "       [ 5.62049633e-01,  9.41901219e-01, -1.06324548e+00,\n",
              "         1.03121251e+00,  6.00343125e-01,  1.11394635e+00,\n",
              "        -1.95515472e-01,  5.81340842e-01,  8.49508529e-01,\n",
              "         1.60872593e+00],\n",
              "       [ 1.01827402e+00,  1.16749238e+00, -4.73903701e-01,\n",
              "         9.65198575e-01,  6.00343125e-01,  1.41634053e+00,\n",
              "        -1.95515472e-01, -2.50039072e-02,  1.24163381e+00,\n",
              "        -4.19237058e-01],\n",
              "       [ 1.05825245e-01,  4.90718907e-01,  1.15438081e-01,\n",
              "         9.54196252e-01,  2.00659578e+00,  9.17798775e-01,\n",
              "         3.59748468e+00,  1.18768559e+00,  7.37472733e-01,\n",
              "         1.92893061e+00],\n",
              "       [ 1.24638622e+00,  1.61867469e+00, -1.06324548e+00,\n",
              "         8.93683480e-01,  9.60920729e-01,  3.94738572e-01,\n",
              "        -1.95515472e-01,  5.81340842e-01,  1.29765171e+00,\n",
              "         1.50199104e+00],\n",
              "       [ 1.24638622e+00,  1.61867469e+00, -1.06324548e+00,\n",
              "         8.60676513e-01,  2.03707760e-01,  1.02404538e+00,\n",
              "        -1.95515472e-01, -2.50039072e-02,  7.37472733e-01,\n",
              "         1.28852125e+00],\n",
              "       [ 1.24638622e+00,  1.16749238e+00,  7.04779863e-01,\n",
              "         6.68135872e-01,  1.42967162e+00,  2.55800705e-01,\n",
              "        -1.95515472e-01, -2.50039072e-02,  9.24006557e-03,\n",
              "         2.35587019e+00],\n",
              "       [ 1.01827402e+00,  1.39308353e+00,  1.15438081e-01,\n",
              "         6.02121938e-01,  3.83996562e-01,  7.54342462e-01,\n",
              "        -1.95515472e-01, -2.50039072e-02,  5.13401143e-01,\n",
              "         5.41376989e-01],\n",
              "       [ 5.62049633e-01,  7.16310063e-01, -1.06324548e+00,\n",
              "         5.85618455e-01,  2.03707760e-01,  6.64441489e-01,\n",
              "        -1.95515472e-01,  5.81340842e-01,  3.45347451e-01,\n",
              "         4.34642095e-01],\n",
              "       [ 7.90161827e-01,  1.16749238e+00,  1.15438081e-01,\n",
              "         5.03101037e-01,  1.64601818e+00,  6.15404595e-01,\n",
              "        -1.95515472e-01,  5.81340842e-01,  4.57383246e-01,\n",
              "         3.27907201e-01],\n",
              "       [ 1.01827402e+00,  9.41901219e-01,  1.15438081e-01,\n",
              "         4.92098715e-01,  4.92169844e-01,  8.68761881e-01,\n",
              "        -1.95515472e-01,  1.18768559e+00,  2.89329553e-01,\n",
              "        -4.19237058e-01],\n",
              "       [ 7.90161827e-01,  7.16310063e-01, -1.06324548e+00,\n",
              "         4.42588265e-01,  4.92169844e-01,  3.62047309e-01,\n",
              "        -1.95515472e-01,  5.81340842e-01,  2.89329553e-01,\n",
              "         8.61581671e-01],\n",
              "       [ 5.62049633e-01,  9.41901219e-01,  1.29412164e+00,\n",
              "         3.60070847e-01,  5.94767183e-02,  4.51948281e-01,\n",
              "        -1.95515472e-01, -2.50039072e-02,  1.77293758e-01,\n",
              "         2.21172306e-01],\n",
              "       [ 1.01827402e+00,  9.41901219e-01,  1.29412164e+00,\n",
              "         3.60070847e-01, -1.20812084e-01,  4.92812360e-01,\n",
              "        -1.95515472e-01, -6.31348656e-01,  2.89329553e-01,\n",
              "         2.21172306e-01],\n",
              "       [ 7.90161827e-01,  9.41901219e-01,  7.04779863e-01,\n",
              "         3.16061558e-01, -4.86965631e-02,  3.78392940e-01,\n",
              "        -1.95515472e-01, -6.31348656e-01, -4.67778320e-02,\n",
              "         2.21172306e-01],\n",
              "       [-3.50399144e-01,  3.95365944e-02, -1.06324548e+00,\n",
              "         2.77553430e-01,  6.00343125e-01,  1.65899733e-01,\n",
              "        -1.95515472e-01,  5.81340842e-01,  5.69419041e-01,\n",
              "         1.14437412e-01],\n",
              "       [ 1.47449841e+00,  9.41901219e-01,  1.15438081e-01,\n",
              "         2.44546463e-01, -4.81389688e-01,  4.68293913e-01,\n",
              "        -1.95515472e-01, -6.31348656e-01,  5.13401143e-01,\n",
              "        -4.19237058e-01],\n",
              "       [ 7.90161827e-01,  9.41901219e-01,  7.04779863e-01,\n",
              "         1.84033690e-01, -2.65043126e-01,  1.41381286e-01,\n",
              "        -1.95515472e-01, -6.31348656e-01,  2.89329553e-01,\n",
              "         1.14437412e-01],\n",
              "       [ 3.33937439e-01,  7.16310063e-01,  7.04779863e-01,\n",
              "         1.73031368e-01,  1.14120953e+00,  2.23109442e-01,\n",
              "        -1.95515472e-01, -2.50039072e-02,  6.52579631e-02,\n",
              "        -9.90323760e-02],\n",
              "       [ 5.62049633e-01,  4.90718907e-01,  3.06214699e+00,\n",
              "         9.60151118e-02,  2.03707760e-01,  6.78259446e-02,\n",
              "        -1.95515472e-01, -2.50039072e-02, -3.26867320e-01,\n",
              "         2.21172306e-01],\n",
              "       [ 5.62049633e-01,  4.90718907e-01,  1.88346343e+00,\n",
              "         4.65046613e-02,  3.11881041e-01, -5.72939656e-03,\n",
              "        -1.95515472e-01, -2.50039072e-02,  2.89329553e-01,\n",
              "        -4.19237058e-01],\n",
              "       [-5.78511338e-01, -1.86054562e-01, -1.06324548e+00,\n",
              "         3.55023390e-02,  1.67650000e-01,  1.82245364e-01,\n",
              "        -1.95515472e-01, -2.50039072e-02,  1.77293758e-01,\n",
              "        -9.90323760e-02],\n",
              "       [ 5.62049633e-01,  9.41901219e-01, -4.73903701e-01,\n",
              "         7.99653323e-03, -1.20812084e-01,  1.74072548e-01,\n",
              "        -1.95515472e-01, -6.31348656e-01, -2.14831525e-01,\n",
              "        -3.12502164e-01],\n",
              "       [ 3.33937439e-01,  7.16310063e-01, -1.06324548e+00,\n",
              "        -1.40534818e-01, -4.86965631e-02, -1.61012894e-01,\n",
              "        -1.95515472e-01, -6.31348656e-01, -1.58813627e-01,\n",
              "         7.70251813e-03],\n",
              "       [-1.03473573e+00, -6.37236874e-01, -4.73903701e-01,\n",
              "        -1.79042946e-01,  6.72458646e-01, -8.74575533e-02,\n",
              "        -1.95515472e-01, -2.50039072e-02,  9.24006557e-03,\n",
              "        -3.12502164e-01],\n",
              "       [-1.03473573e+00, -6.37236874e-01, -4.73903701e-01,\n",
              "        -2.28553397e-01,  1.67650000e-01, -2.50913867e-01,\n",
              "        -1.95515472e-01, -2.50039072e-02,  1.77293758e-01,\n",
              "        -5.25971953e-01],\n",
              "       [-1.03473573e+00, -6.37236874e-01, -1.06324548e+00,\n",
              "        -2.56059202e-01, -1.20812084e-01, -1.77358526e-01,\n",
              "        -1.95515472e-01, -6.31348656e-01, -2.14831525e-01,\n",
              "        -3.12502164e-01],\n",
              "       [ 1.24638622e+00,  2.65127751e-01,  2.47280521e+00,\n",
              "        -2.94567330e-01,  7.08516406e-01, -3.98024549e-01,\n",
              "        -1.95515472e-01, -2.50039072e-02, -4.94921012e-01,\n",
              "         1.14437412e-01],\n",
              "       [-1.22286949e-01,  3.95365944e-02, -4.73903701e-01,\n",
              "        -3.33075459e-01, -8.47543235e-02, -3.24469208e-01,\n",
              "        -1.95515472e-01, -6.31348656e-01, -6.06956807e-01,\n",
              "        -9.90323760e-02],\n",
              "       [-3.50399144e-01, -1.86054562e-01, -4.73903701e-01,\n",
              "        -3.38576620e-01,  5.94767183e-02, -3.24469208e-01,\n",
              "        -1.95515472e-01, -2.50039072e-02, -3.82885217e-01,\n",
              "        -2.05767270e-01],\n",
              "       [-3.50399144e-01, -1.86054562e-01,  7.04779863e-01,\n",
              "        -3.49578942e-01, -3.01100886e-01, -4.55234259e-01,\n",
              "        -1.95515472e-01, -6.31348656e-01, -7.18992602e-01,\n",
              "         1.14437412e-01],\n",
              "       [-1.03473573e+00, -6.37236874e-01, -1.06324548e+00,\n",
              "        -3.71583587e-01, -1.92927605e-01, -4.22542996e-01,\n",
              "        -1.95515472e-01, -6.31348656e-01, -4.67778320e-02,\n",
              "        -3.12502164e-01],\n",
              "       [ 1.01827402e+00,  9.41901219e-01,  1.29412164e+00,\n",
              "        -3.77084748e-01, -5.53505209e-01, -6.18690572e-01,\n",
              "        -1.95515472e-01, -6.31348656e-01, -4.38903115e-01,\n",
              "         7.70251813e-03],\n",
              "       [ 1.05825245e-01,  2.65127751e-01,  1.15438081e-01,\n",
              "        -3.99089392e-01, -4.81389688e-01, -3.08123577e-01,\n",
              "        -1.95515472e-01, -6.31348656e-01,  9.24006557e-03,\n",
              "        -8.46176635e-01],\n",
              "       [ 1.05825245e-01,  4.90718907e-01, -4.73903701e-01,\n",
              "        -4.10091715e-01, -6.61678491e-01, -3.73506102e-01,\n",
              "        -1.95515472e-01, -6.31348656e-01, -4.38903115e-01,\n",
              "        -4.19237058e-01],\n",
              "       [-1.26284792e+00, -8.62828030e-01, -4.73903701e-01,\n",
              "        -4.10091715e-01,  1.53784490e+00, -3.73506102e-01,\n",
              "        -1.95515472e-01, -2.50039072e-02, -4.38903115e-01,\n",
              "        -2.05767270e-01],\n",
              "       [-8.06623532e-01, -4.11645718e-01, -1.06324548e+00,\n",
              "        -4.37597521e-01, -1.56869844e-01, -3.32642024e-01,\n",
              "        -1.95515472e-01, -6.31348656e-01, -3.26867320e-01,\n",
              "        -4.19237058e-01],\n",
              "       [-1.22286949e-01, -1.86054562e-01, -1.06324548e+00,\n",
              "        -4.76105649e-01,  2.75823281e-01, -5.04271153e-01,\n",
              "        -1.95515472e-01, -2.50039072e-02, -4.94921012e-01,\n",
              "        -4.19237058e-01],\n",
              "       [ 7.90161827e-01,  3.95365944e-02, -4.73903701e-01,\n",
              "        -5.09112616e-01, -1.20812084e-01, -5.61480863e-01,\n",
              "        -1.95515472e-01, -6.31348656e-01, -5.50938910e-01,\n",
              "        -4.19237058e-01],\n",
              "       [-8.06623532e-01, -4.11645718e-01,  7.04779863e-01,\n",
              "        -5.25616099e-01, -6.97736251e-01, -5.20616784e-01,\n",
              "        -1.95515472e-01, -6.31348656e-01, -6.06956807e-01,\n",
              "        -5.25971953e-01],\n",
              "       [-3.50399144e-01, -6.37236874e-01,  1.15438081e-01,\n",
              "        -5.42119583e-01, -4.09274168e-01, -6.67727467e-01,\n",
              "        -1.95515472e-01, -6.31348656e-01, -6.62974705e-01,\n",
              "        -9.90323760e-02],\n",
              "       [ 1.24638622e+00,  2.65127751e-01,  1.88346343e+00,\n",
              "        -5.80627711e-01, -7.69851772e-01, -5.36962416e-01,\n",
              "        -1.95515472e-01, -6.31348656e-01, -7.75010500e-01,\n",
              "        -5.25971953e-01],\n",
              "       [-3.50399144e-01, -1.86054562e-01,  1.29412164e+00,\n",
              "        -5.91630033e-01, -5.89562970e-01, -4.79752706e-01,\n",
              "        -1.95515472e-01, -6.31348656e-01, -8.31028397e-01,\n",
              "        -6.32706847e-01],\n",
              "       [-1.03473573e+00, -8.62828030e-01, -1.06324548e+00,\n",
              "        -6.02632355e-01,  2.39765520e-01, -4.22542996e-01,\n",
              "        -1.95515472e-01, -2.50039072e-02, -4.94921012e-01,\n",
              "        -8.46176635e-01],\n",
              "       [-3.50399144e-01, -1.86054562e-01,  1.15438081e-01,\n",
              "        -6.30138161e-01, -1.05831386e+00, -5.77826494e-01,\n",
              "        -1.95515472e-01, -6.31348656e-01, -7.75010500e-01,\n",
              "        -5.25971953e-01],\n",
              "       [-1.26284792e+00, -1.08841919e+00, -1.06324548e+00,\n",
              "        -6.46641645e-01,  6.00343125e-01, -7.65801255e-01,\n",
              "        -1.95515472e-01, -2.50039072e-02, -7.18992602e-01,\n",
              "        -3.12502164e-01],\n",
              "       [-1.49096011e+00, -1.08841919e+00, -4.73903701e-01,\n",
              "        -6.57643967e-01, -1.92927605e-01, -7.49455623e-01,\n",
              "        -1.95515472e-01, -6.31348656e-01, -8.87046295e-01,\n",
              "        -9.90323760e-02],\n",
              "       [-1.71907231e+00, -1.31401034e+00, -4.73903701e-01,\n",
              "        -6.63145128e-01, -8.05909532e-01, -6.18690572e-01,\n",
              "        -1.95515472e-01, -6.31348656e-01, -7.75010500e-01,\n",
              "        -7.39441741e-01],\n",
              "       [-8.06623532e-01, -6.37236874e-01,  7.04779863e-01,\n",
              "        -7.12655579e-01, -4.81389688e-01, -8.31183780e-01,\n",
              "        -1.95515472e-01, -6.31348656e-01, -6.62974705e-01,\n",
              "        -5.25971953e-01],\n",
              "       [-5.78511338e-01, -6.37236874e-01, -1.06324548e+00,\n",
              "        -7.12655579e-01, -1.02225610e+00, -5.45135231e-01,\n",
              "        -1.95515472e-01, -6.31348656e-01, -6.06956807e-01,\n",
              "        -7.39441741e-01],\n",
              "       [-1.71907231e+00, -1.31401034e+00,  1.15438081e-01,\n",
              "        -7.23657901e-01, -8.47543235e-02, -8.72047859e-01,\n",
              "        -1.95515472e-01, -6.31348656e-01, -7.75010500e-01,\n",
              "        -4.19237058e-01],\n",
              "       [-1.26284792e+00, -8.62828030e-01, -1.06324548e+00,\n",
              "        -7.23657901e-01, -5.53505209e-01, -8.06665333e-01,\n",
              "        -1.95515472e-01, -6.31348656e-01, -5.50938910e-01,\n",
              "        -5.25971953e-01],\n",
              "       [-1.26284792e+00, -1.53960150e+00, -4.73903701e-01,\n",
              "        -7.40161384e-01, -4.45331928e-01, -8.72047859e-01,\n",
              "        -1.95515472e-01, -6.31348656e-01, -8.87046295e-01,\n",
              "        -3.12502164e-01],\n",
              "       [ 1.47449841e+00, -4.11645718e-01,  1.15438081e-01,\n",
              "        -7.45662545e-01, -5.17447449e-01, -8.88393490e-01,\n",
              "        -1.95515472e-01, -6.31348656e-01, -7.75010500e-01,\n",
              "        -3.12502164e-01],\n",
              "       [-1.49096011e+00, -1.08841919e+00, -4.73903701e-01,\n",
              "        -7.56664868e-01, -5.89562970e-01, -7.57628439e-01,\n",
              "        -1.95515472e-01, -6.31348656e-01, -6.62974705e-01,\n",
              "        -8.46176635e-01],\n",
              "       [-1.49096011e+00, -1.08841919e+00, -1.06324548e+00,\n",
              "        -7.67667190e-01, -1.20812084e-01, -7.57628439e-01,\n",
              "        -1.95515472e-01, -6.31348656e-01, -8.31028397e-01,\n",
              "        -5.25971953e-01],\n",
              "       [-1.03473573e+00, -1.31401034e+00, -1.06324548e+00,\n",
              "        -7.84170674e-01, -4.81389688e-01, -8.14838149e-01,\n",
              "        -1.95515472e-01, -6.31348656e-01, -6.06956807e-01,\n",
              "        -8.46176635e-01],\n",
              "       [-5.78511338e-01, -1.08841919e+00,  1.15438081e-01,\n",
              "        -7.84170674e-01, -4.45331928e-01, -7.65801255e-01,\n",
              "        -1.95515472e-01, -6.31348656e-01, -6.62974705e-01,\n",
              "        -8.46176635e-01],\n",
              "       [-8.06623532e-01, -6.37236874e-01, -4.73903701e-01,\n",
              "        -7.89671835e-01, -9.50140574e-01, -8.06665333e-01,\n",
              "        -1.95515472e-01, -6.31348656e-01, -5.50938910e-01,\n",
              "        -8.46176635e-01],\n",
              "       [ 3.33937439e-01, -1.08841919e+00, -4.73903701e-01,\n",
              "        -7.95172996e-01, -3.37158647e-01, -9.04739121e-01,\n",
              "        -1.95515472e-01, -6.31348656e-01, -8.87046295e-01,\n",
              "        -5.25971953e-01],\n",
              "       [ 1.05825245e-01, -1.08841919e+00, -4.73903701e-01,\n",
              "        -7.95172996e-01, -8.78025053e-01, -7.73974070e-01,\n",
              "        -1.95515472e-01, -6.31348656e-01, -6.62974705e-01,\n",
              "        -9.52911529e-01],\n",
              "       [-5.78511338e-01, -8.62828030e-01,  1.15438081e-01,\n",
              "        -7.95172996e-01, -8.78025053e-01, -7.90319702e-01,\n",
              "        -1.95515472e-01, -6.31348656e-01, -6.62974705e-01,\n",
              "        -8.46176635e-01],\n",
              "       [ 1.01827402e+00, -4.11645718e-01,  7.04779863e-01,\n",
              "        -8.00674157e-01, -8.05909532e-01, -8.31183780e-01,\n",
              "        -1.95515472e-01, -6.31348656e-01, -6.06956807e-01,\n",
              "        -8.46176635e-01],\n",
              "       [-1.26284792e+00, -1.08841919e+00, -4.73903701e-01,\n",
              "        -8.11676479e-01, -4.81389688e-01, -7.82146886e-01,\n",
              "        -1.95515472e-01, -6.31348656e-01, -7.18992602e-01,\n",
              "        -8.46176635e-01],\n",
              "       [-1.49096011e+00, -1.08841919e+00,  7.04779863e-01,\n",
              "        -8.17177641e-01, -7.69851772e-01, -9.29257568e-01,\n",
              "        -1.95515472e-01, -6.31348656e-01, -7.75010500e-01,\n",
              "        -7.39441741e-01],\n",
              "       [-8.06623532e-01, -8.62828030e-01, -1.06324548e+00,\n",
              "        -8.28179963e-01, -9.50140574e-01, -8.23010964e-01,\n",
              "        -1.95515472e-01, -6.31348656e-01, -8.31028397e-01,\n",
              "        -7.39441741e-01],\n",
              "       [-1.03473573e+00, -1.08841919e+00,  7.04779863e-01,\n",
              "        -8.72189252e-01, -9.14082814e-01, -8.14838149e-01,\n",
              "        -1.95515472e-01, -6.31348656e-01, -7.75010500e-01,\n",
              "        -8.46176635e-01],\n",
              "       [ 7.90161827e-01, -1.86054562e-01,  1.15438081e-01,\n",
              "        -8.94193897e-01, -1.23860266e+00, -8.31183780e-01,\n",
              "        -1.95515472e-01, -6.31348656e-01, -8.31028397e-01,\n",
              "        -8.46176635e-01],\n",
              "       [ 5.62049633e-01, -1.31401034e+00, -1.06324548e+00,\n",
              "        -9.10697380e-01, -1.05831386e+00, -8.47529412e-01,\n",
              "        -1.95515472e-01, -6.31348656e-01, -7.75010500e-01,\n",
              "        -8.46176635e-01],\n",
              "       [-1.49096011e+00, -1.08841919e+00, -1.06324548e+00,\n",
              "        -9.10697380e-01, -1.16648714e+00, -8.88393490e-01,\n",
              "        -1.95515472e-01, -6.31348656e-01, -7.18992602e-01,\n",
              "        -9.52911529e-01],\n",
              "       [ 1.01827402e+00, -4.11645718e-01,  7.04779863e-01,\n",
              "        -9.21699703e-01, -1.31071818e+00, -8.63875043e-01,\n",
              "        -1.95515472e-01, -6.31348656e-01, -8.87046295e-01,\n",
              "        -8.46176635e-01],\n",
              "       [-1.49096011e+00, -1.31401034e+00, -4.73903701e-01,\n",
              "        -9.27200864e-01, -1.27466042e+00, -8.72047859e-01,\n",
              "        -1.95515472e-01, -6.31348656e-01, -9.43064192e-01,\n",
              "        -8.46176635e-01],\n",
              "       [ 1.05825245e-01, -1.08841919e+00,  1.15438081e-01,\n",
              "        -9.32702025e-01, -1.23860266e+00, -9.61948831e-01,\n",
              "        -1.95515472e-01, -6.31348656e-01, -8.31028397e-01,\n",
              "        -8.46176635e-01],\n",
              "       [-1.26284792e+00, -1.08841919e+00, -4.73903701e-01,\n",
              "        -9.43704347e-01, -1.09437162e+00, -9.12911937e-01,\n",
              "        -1.95515472e-01, -6.31348656e-01, -7.75010500e-01,\n",
              "        -9.52911529e-01],\n",
              "       [ 7.90161827e-01, -6.37236874e-01,  1.29412164e+00,\n",
              "        -9.54706669e-01, -1.49100698e+00, -9.45603200e-01,\n",
              "        -1.95515472e-01, -6.31348656e-01, -8.31028397e-01,\n",
              "        -9.52911529e-01],\n",
              "       [-1.94718450e+00, -1.53960150e+00, -4.73903701e-01,\n",
              "        -9.60207831e-01, -1.34677594e+00, -9.70121647e-01,\n",
              "        -1.95515472e-01, -6.31348656e-01, -8.87046295e-01,\n",
              "        -9.52911529e-01],\n",
              "       [-1.94718450e+00, -1.53960150e+00, -1.06324548e+00,\n",
              "        -9.71210153e-01, -1.23860266e+00, -1.04367699e+00,\n",
              "        -1.95515472e-01, -6.31348656e-01, -7.75010500e-01,\n",
              "        -9.52911529e-01],\n",
              "       [-1.26284792e+00, -1.08841919e+00,  1.15438081e-01,\n",
              "        -9.76711314e-01, -1.34677594e+00, -9.86467278e-01,\n",
              "        -1.95515472e-01, -6.31348656e-01, -8.87046295e-01,\n",
              "        -8.46176635e-01],\n",
              "       [-1.71907231e+00, -1.31401034e+00, -1.06324548e+00,\n",
              "        -9.76711314e-01, -1.20254490e+00, -9.61948831e-01,\n",
              "        -1.95515472e-01, -6.31348656e-01, -9.43064192e-01,\n",
              "        -8.46176635e-01],\n",
              "       [-1.22286949e-01, -1.86054562e-01,  7.04779863e-01,\n",
              "        -9.87713636e-01, -1.45494922e+00, -9.70121647e-01,\n",
              "        -1.95515472e-01, -6.31348656e-01, -8.31028397e-01,\n",
              "        -9.52911529e-01],\n",
              "       [ 3.33937439e-01, -1.08841919e+00,  1.15438081e-01,\n",
              "        -9.98715959e-01, -1.49100698e+00, -1.01098573e+00,\n",
              "        -1.95515472e-01, -6.31348656e-01, -8.87046295e-01,\n",
              "        -9.52911529e-01],\n",
              "       [-3.50399144e-01, -1.08841919e+00, -4.73903701e-01,\n",
              "        -9.98715959e-01, -1.49100698e+00, -1.01915854e+00,\n",
              "        -1.95515472e-01, -6.31348656e-01, -8.87046295e-01,\n",
              "        -9.52911529e-01]])"
            ]
          },
          "metadata": {
            "tags": []
          },
          "execution_count": 240
        }
      ]
    },
    {
      "cell_type": "code",
      "metadata": {
        "id": "7c0Tm2_iJMJY"
      },
      "source": [
        "from sklearn.decomposition import PCA\n",
        "pca = PCA(n_components=0.95)"
      ],
      "execution_count": 241,
      "outputs": []
    },
    {
      "cell_type": "code",
      "metadata": {
        "id": "I6o4-i7iiZ-i"
      },
      "source": [
        "pca.fit(data_scaled)\n",
        "pcad = pca.transform(data_scaled)"
      ],
      "execution_count": 242,
      "outputs": []
    },
    {
      "cell_type": "code",
      "metadata": {
        "id": "TT8DUtSviukF",
        "outputId": "dd6a669c-8635-4c71-f8ff-f2a34b8428cd",
        "colab": {
          "base_uri": "https://localhost:8080/",
          "height": 34
        }
      },
      "source": [
        "print(pca.explained_variance_ratio_)"
      ],
      "execution_count": 243,
      "outputs": [
        {
          "output_type": "stream",
          "text": [
            "[0.67036152 0.13086429 0.08388254 0.05301066 0.02366089]\n"
          ],
          "name": "stdout"
        }
      ]
    },
    {
      "cell_type": "code",
      "metadata": {
        "id": "SSFhCnOvkyat",
        "outputId": "9d480752-c566-4921-f4ed-59b7fb5162e7",
        "colab": {
          "base_uri": "https://localhost:8080/",
          "height": 338
        }
      },
      "source": [
        "sns.scatterplot(pcad[:,0],pcad[:,1])"
      ],
      "execution_count": 244,
      "outputs": [
        {
          "output_type": "stream",
          "text": [
            "/usr/local/lib/python3.6/dist-packages/seaborn/_decorators.py:43: FutureWarning: Pass the following variables as keyword args: x, y. From version 0.12, the only valid positional argument will be `data`, and passing other arguments without an explicit keyword will result in an error or misinterpretation.\n",
            "  FutureWarning\n"
          ],
          "name": "stderr"
        },
        {
          "output_type": "execute_result",
          "data": {
            "text/plain": [
              "<matplotlib.axes._subplots.AxesSubplot at 0x7fbcb9e7ccf8>"
            ]
          },
          "metadata": {
            "tags": []
          },
          "execution_count": 244
        },
        {
          "output_type": "display_data",
          "data": {
            "image/png": "[encoded data removed]",
            "text/plain": [
              "<Figure size 432x288 with 1 Axes>"
            ]
          },
          "metadata": {
            "tags": [],
            "needs_background": "light"
          }
        }
      ]
    },
    {
      "cell_type": "code",
      "metadata": {
        "id": "eMspDh9ood_8"
      },
      "source": [
        "X_new = pd.DataFrame(data_scaled,columns=X.columns)"
      ],
      "execution_count": 245,
      "outputs": []
    },
    {
      "cell_type": "code",
      "metadata": {
        "id": "PkUr1JVTs7m_"
      },
      "source": [
        "Y_new = pd.DataFrame(Y)"
      ],
      "execution_count": 246,
      "outputs": []
    },
    {
      "cell_type": "code",
      "metadata": {
        "id": "L1qr-DyHtAyC",
        "outputId": "c2c879b2-ba05-4081-b274-6aab8a9a5340",
        "colab": {
          "base_uri": "https://localhost:8080/",
          "height": 402
        }
      },
      "source": [
        "Y_new"
      ],
      "execution_count": 247,
      "outputs": [
        {
          "output_type": "execute_result",
          "data": {
            "text/html": [
              "<div>\n",
              "<style scoped>\n",
              "    .dataframe tbody tr th:only-of-type {\n",
              "        vertical-align: middle;\n",
              "    }\n",
              "\n",
              "    .dataframe tbody tr th {\n",
              "        vertical-align: top;\n",
              "    }\n",
              "\n",
              "    .dataframe thead th {\n",
              "        text-align: right;\n",
              "    }\n",
              "</style>\n",
              "<table border=\"1\" class=\"dataframe\">\n",
              "  <thead>\n",
              "    <tr style=\"text-align: right;\">\n",
              "      <th></th>\n",
              "      <th>2019_Runs</th>\n",
              "    </tr>\n",
              "  </thead>\n",
              "  <tbody>\n",
              "    <tr>\n",
              "      <th>42</th>\n",
              "      <td>692</td>\n",
              "    </tr>\n",
              "    <tr>\n",
              "      <th>73</th>\n",
              "      <td>593</td>\n",
              "    </tr>\n",
              "    <tr>\n",
              "      <th>46</th>\n",
              "      <td>529</td>\n",
              "    </tr>\n",
              "    <tr>\n",
              "      <th>5</th>\n",
              "      <td>521</td>\n",
              "    </tr>\n",
              "    <tr>\n",
              "      <th>80</th>\n",
              "      <td>510</td>\n",
              "    </tr>\n",
              "    <tr>\n",
              "      <th>...</th>\n",
              "      <td>...</td>\n",
              "    </tr>\n",
              "    <tr>\n",
              "      <th>17</th>\n",
              "      <td>12</td>\n",
              "    </tr>\n",
              "    <tr>\n",
              "      <th>20</th>\n",
              "      <td>11</td>\n",
              "    </tr>\n",
              "    <tr>\n",
              "      <th>39</th>\n",
              "      <td>9</td>\n",
              "    </tr>\n",
              "    <tr>\n",
              "      <th>11</th>\n",
              "      <td>9</td>\n",
              "    </tr>\n",
              "    <tr>\n",
              "      <th>83</th>\n",
              "      <td>9</td>\n",
              "    </tr>\n",
              "  </tbody>\n",
              "</table>\n",
              "<p>97 rows × 1 columns</p>\n",
              "</div>"
            ],
            "text/plain": [
              "    2019_Runs\n",
              "42        692\n",
              "73        593\n",
              "46        529\n",
              "5         521\n",
              "80        510\n",
              "..        ...\n",
              "17         12\n",
              "20         11\n",
              "39          9\n",
              "11          9\n",
              "83          9\n",
              "\n",
              "[97 rows x 1 columns]"
            ]
          },
          "metadata": {
            "tags": []
          },
          "execution_count": 247
        }
      ]
    },
    {
      "cell_type": "code",
      "metadata": {
        "id": "LuF8H0SvtCKf"
      },
      "source": [
        "from sklearn.model_selection import train_test_split\n",
        "X_train,X_test,Y_train,Y_test=train_test_split(X_new,Y_new,test_size=0.3,random_state=1234)"
      ],
      "execution_count": 248,
      "outputs": []
    },
    {
      "cell_type": "code",
      "metadata": {
        "id": "J4nHBPu_ybit"
      },
      "source": [
        "from sklearn.linear_model import Ridge\n",
        "ridge = Ridge(alpha=0.05)"
      ],
      "execution_count": 249,
      "outputs": []
    },
    {
      "cell_type": "code",
      "metadata": {
        "id": "7A80t9e7NU8y",
        "outputId": "93d4da02-d3e7-45be-ff1c-fe177db6f99e",
        "colab": {
          "base_uri": "https://localhost:8080/",
          "height": 52
        }
      },
      "source": [
        "ridge.fit(X_train,Y_train)"
      ],
      "execution_count": 250,
      "outputs": [
        {
          "output_type": "execute_result",
          "data": {
            "text/plain": [
              "Ridge(alpha=0.05, copy_X=True, fit_intercept=True, max_iter=None,\n",
              "      normalize=False, random_state=None, solver='auto', tol=0.001)"
            ]
          },
          "metadata": {
            "tags": []
          },
          "execution_count": 250
        }
      ]
    },
    {
      "cell_type": "code",
      "metadata": {
        "id": "mcTn8ohKYPat",
        "outputId": "21c4a973-4529-4c95-f486-9859a702760b",
        "colab": {
          "base_uri": "https://localhost:8080/",
          "height": 34
        }
      },
      "source": [
        "ridge.score(X_train,Y_train)"
      ],
      "execution_count": 251,
      "outputs": [
        {
          "output_type": "execute_result",
          "data": {
            "text/plain": [
              "0.9850333884421629"
            ]
          },
          "metadata": {
            "tags": []
          },
          "execution_count": 251
        }
      ]
    },
    {
      "cell_type": "code",
      "metadata": {
        "id": "GhiqRJuRNYhR",
        "outputId": "7663d958-3c1d-424a-c8eb-9722f5ce4e40",
        "colab": {
          "base_uri": "https://localhost:8080/",
          "height": 34
        }
      },
      "source": [
        "ridge.score(X_test,Y_test)"
      ],
      "execution_count": 252,
      "outputs": [
        {
          "output_type": "execute_result",
          "data": {
            "text/plain": [
              "0.9863194263319632"
            ]
          },
          "metadata": {
            "tags": []
          },
          "execution_count": 252
        }
      ]
    },
    {
      "cell_type": "code",
      "metadata": {
        "id": "c4WGPvGucezc"
      },
      "source": [
        "test_data = test.copy()"
      ],
      "execution_count": 253,
      "outputs": []
    },
    {
      "cell_type": "code",
      "metadata": {
        "id": "9Z-earDmYuji"
      },
      "source": [
        "test = test.drop(columns=['PLAYER','Avg','SR'],axis=1)"
      ],
      "execution_count": 254,
      "outputs": []
    },
    {
      "cell_type": "code",
      "metadata": {
        "id": "5nUeBl_xZcfe",
        "outputId": "552ae193-be96-48e7-91f4-67061eed4a97",
        "colab": {
          "base_uri": "https://localhost:8080/",
          "height": 210
        }
      },
      "source": [
        "test.dtypes"
      ],
      "execution_count": 255,
      "outputs": [
        {
          "output_type": "execute_result",
          "data": {
            "text/plain": [
              "Mat           int64\n",
              "Inns          int64\n",
              "NO            int64\n",
              "2019_Runs     int64\n",
              "HS           object\n",
              "BF            int64\n",
              "100           int64\n",
              "50            int64\n",
              "4s            int64\n",
              "6s            int64\n",
              "dtype: object"
            ]
          },
          "metadata": {
            "tags": []
          },
          "execution_count": 255
        }
      ]
    },
    {
      "cell_type": "code",
      "metadata": {
        "id": "jGMyYlU7Zurk"
      },
      "source": [
        "for i in range(test.shape[0]):\n",
        "  if str(test['HS'][i])[-1]=='*':\n",
        "    test.loc[i,'HS']=test['HS'][i][:-1]"
      ],
      "execution_count": 256,
      "outputs": []
    },
    {
      "cell_type": "code",
      "metadata": {
        "id": "qZdGjljiZ86V"
      },
      "source": [
        "test['HS']=test['HS'].astype('int')"
      ],
      "execution_count": 257,
      "outputs": []
    },
    {
      "cell_type": "code",
      "metadata": {
        "id": "9u9SYKkTbNXh",
        "outputId": "164ca9c4-db71-46d4-aa43-36966adc5c13",
        "colab": {
          "base_uri": "https://localhost:8080/",
          "height": 402
        }
      },
      "source": [
        "test"
      ],
      "execution_count": 258,
      "outputs": [
        {
          "output_type": "execute_result",
          "data": {
            "text/html": [
              "<div>\n",
              "<style scoped>\n",
              "    .dataframe tbody tr th:only-of-type {\n",
              "        vertical-align: middle;\n",
              "    }\n",
              "\n",
              "    .dataframe tbody tr th {\n",
              "        vertical-align: top;\n",
              "    }\n",
              "\n",
              "    .dataframe thead th {\n",
              "        text-align: right;\n",
              "    }\n",
              "</style>\n",
              "<table border=\"1\" class=\"dataframe\">\n",
              "  <thead>\n",
              "    <tr style=\"text-align: right;\">\n",
              "      <th></th>\n",
              "      <th>Mat</th>\n",
              "      <th>Inns</th>\n",
              "      <th>NO</th>\n",
              "      <th>2019_Runs</th>\n",
              "      <th>HS</th>\n",
              "      <th>BF</th>\n",
              "      <th>100</th>\n",
              "      <th>50</th>\n",
              "      <th>4s</th>\n",
              "      <th>6s</th>\n",
              "    </tr>\n",
              "  </thead>\n",
              "  <tbody>\n",
              "    <tr>\n",
              "      <th>0</th>\n",
              "      <td>12</td>\n",
              "      <td>12</td>\n",
              "      <td>2</td>\n",
              "      <td>692</td>\n",
              "      <td>100</td>\n",
              "      <td>481</td>\n",
              "      <td>1</td>\n",
              "      <td>8</td>\n",
              "      <td>57</td>\n",
              "      <td>21</td>\n",
              "    </tr>\n",
              "    <tr>\n",
              "      <th>1</th>\n",
              "      <td>14</td>\n",
              "      <td>14</td>\n",
              "      <td>3</td>\n",
              "      <td>593</td>\n",
              "      <td>100</td>\n",
              "      <td>438</td>\n",
              "      <td>1</td>\n",
              "      <td>6</td>\n",
              "      <td>49</td>\n",
              "      <td>25</td>\n",
              "    </tr>\n",
              "    <tr>\n",
              "      <th>2</th>\n",
              "      <td>16</td>\n",
              "      <td>16</td>\n",
              "      <td>1</td>\n",
              "      <td>529</td>\n",
              "      <td>81</td>\n",
              "      <td>398</td>\n",
              "      <td>0</td>\n",
              "      <td>4</td>\n",
              "      <td>45</td>\n",
              "      <td>25</td>\n",
              "    </tr>\n",
              "    <tr>\n",
              "      <th>3</th>\n",
              "      <td>16</td>\n",
              "      <td>16</td>\n",
              "      <td>1</td>\n",
              "      <td>521</td>\n",
              "      <td>97</td>\n",
              "      <td>384</td>\n",
              "      <td>0</td>\n",
              "      <td>5</td>\n",
              "      <td>64</td>\n",
              "      <td>11</td>\n",
              "    </tr>\n",
              "    <tr>\n",
              "      <th>4</th>\n",
              "      <td>14</td>\n",
              "      <td>13</td>\n",
              "      <td>4</td>\n",
              "      <td>510</td>\n",
              "      <td>80</td>\n",
              "      <td>249</td>\n",
              "      <td>0</td>\n",
              "      <td>4</td>\n",
              "      <td>31</td>\n",
              "      <td>52</td>\n",
              "    </tr>\n",
              "    <tr>\n",
              "      <th>...</th>\n",
              "      <td>...</td>\n",
              "      <td>...</td>\n",
              "      <td>...</td>\n",
              "      <td>...</td>\n",
              "      <td>...</td>\n",
              "      <td>...</td>\n",
              "      <td>...</td>\n",
              "      <td>...</td>\n",
              "      <td>...</td>\n",
              "      <td>...</td>\n",
              "    </tr>\n",
              "    <tr>\n",
              "      <th>95</th>\n",
              "      <td>2</td>\n",
              "      <td>2</td>\n",
              "      <td>0</td>\n",
              "      <td>11</td>\n",
              "      <td>6</td>\n",
              "      <td>10</td>\n",
              "      <td>0</td>\n",
              "      <td>0</td>\n",
              "      <td>1</td>\n",
              "      <td>0</td>\n",
              "    </tr>\n",
              "    <tr>\n",
              "      <th>96</th>\n",
              "      <td>13</td>\n",
              "      <td>3</td>\n",
              "      <td>3</td>\n",
              "      <td>10</td>\n",
              "      <td>10</td>\n",
              "      <td>3</td>\n",
              "      <td>0</td>\n",
              "      <td>0</td>\n",
              "      <td>1</td>\n",
              "      <td>1</td>\n",
              "    </tr>\n",
              "    <tr>\n",
              "      <th>97</th>\n",
              "      <td>3</td>\n",
              "      <td>1</td>\n",
              "      <td>0</td>\n",
              "      <td>9</td>\n",
              "      <td>9</td>\n",
              "      <td>10</td>\n",
              "      <td>0</td>\n",
              "      <td>0</td>\n",
              "      <td>0</td>\n",
              "      <td>0</td>\n",
              "    </tr>\n",
              "    <tr>\n",
              "      <th>98</th>\n",
              "      <td>7</td>\n",
              "      <td>4</td>\n",
              "      <td>0</td>\n",
              "      <td>9</td>\n",
              "      <td>5</td>\n",
              "      <td>12</td>\n",
              "      <td>0</td>\n",
              "      <td>0</td>\n",
              "      <td>1</td>\n",
              "      <td>0</td>\n",
              "    </tr>\n",
              "    <tr>\n",
              "      <th>99</th>\n",
              "      <td>3</td>\n",
              "      <td>1</td>\n",
              "      <td>1</td>\n",
              "      <td>9</td>\n",
              "      <td>9</td>\n",
              "      <td>9</td>\n",
              "      <td>0</td>\n",
              "      <td>0</td>\n",
              "      <td>0</td>\n",
              "      <td>0</td>\n",
              "    </tr>\n",
              "  </tbody>\n",
              "</table>\n",
              "<p>100 rows × 10 columns</p>\n",
              "</div>"
            ],
            "text/plain": [
              "    Mat  Inns  NO  2019_Runs   HS   BF  100  50  4s  6s\n",
              "0    12    12   2        692  100  481    1   8  57  21\n",
              "1    14    14   3        593  100  438    1   6  49  25\n",
              "2    16    16   1        529   81  398    0   4  45  25\n",
              "3    16    16   1        521   97  384    0   5  64  11\n",
              "4    14    13   4        510   80  249    0   4  31  52\n",
              "..  ...   ...  ..        ...  ...  ...  ...  ..  ..  ..\n",
              "95    2     2   0         11    6   10    0   0   1   0\n",
              "96   13     3   3         10   10    3    0   0   1   1\n",
              "97    3     1   0          9    9   10    0   0   0   0\n",
              "98    7     4   0          9    5   12    0   0   1   0\n",
              "99    3     1   1          9    9    9    0   0   0   0\n",
              "\n",
              "[100 rows x 10 columns]"
            ]
          },
          "metadata": {
            "tags": []
          },
          "execution_count": 258
        }
      ]
    },
    {
      "cell_type": "code",
      "metadata": {
        "id": "hz81uAgkZD8k"
      },
      "source": [
        "test_data_scaled = scaler.fit_transform(test)"
      ],
      "execution_count": 259,
      "outputs": []
    },
    {
      "cell_type": "code",
      "metadata": {
        "id": "v4PC15oWZE9E",
        "outputId": "167033bb-34ef-47ca-f059-edf4df4cb7b0",
        "colab": {
          "base_uri": "https://localhost:8080/",
          "height": 1000
        }
      },
      "source": [
        "test_data_scaled"
      ],
      "execution_count": 260,
      "outputs": [
        {
          "output_type": "execute_result",
          "data": {
            "text/plain": [
              "array([[ 4.20866032e-01,  7.92199502e-01,  8.71007113e-02,\n",
              "         2.94443460e+00,  1.68573558e+00,  2.80934576e+00,\n",
              "         3.95811403e+00,  4.37491513e+00,  2.42026832e+00,\n",
              "         1.46311199e+00],\n",
              "       [ 8.52523501e-01,  1.21470590e+00,  6.31480157e-01,\n",
              "         2.37032379e+00,  1.68573558e+00,  2.45859558e+00,\n",
              "         3.95811403e+00,  3.11413267e+00,  1.94289784e+00,\n",
              "         1.90715205e+00],\n",
              "       [ 1.28418097e+00,  1.63721230e+00, -4.57278734e-01,\n",
              "         1.99918144e+00,  1.07542735e+00,  2.13231635e+00,\n",
              "        -2.52645576e-01,  1.85335021e+00,  1.70421260e+00,\n",
              "         1.90715205e+00],\n",
              "       [ 1.28418097e+00,  1.63721230e+00, -4.57278734e-01,\n",
              "         1.95278865e+00,  1.58937112e+00,  2.01811862e+00,\n",
              "        -2.52645576e-01,  2.48374144e+00,  2.83796748e+00,\n",
              "         3.53011847e-01],\n",
              "       [ 8.52523501e-01,  1.00345270e+00,  1.17585960e+00,\n",
              "         1.88899856e+00,  1.04330586e+00,  9.16926211e-01,\n",
              "        -2.52645576e-01,  1.85335021e+00,  8.68814268e-01,\n",
              "         4.90442245e+00],\n",
              "       [ 6.36694767e-01,  1.00345270e+00, -4.57278734e-01,\n",
              "         1.77301657e+00,  1.65361410e+00,  1.48791487e+00,\n",
              "        -2.52645576e-01,  1.85335021e+00,  1.70421260e+00,\n",
              "         2.90624218e+00],\n",
              "       [ 1.28418097e+00,  1.63721230e+00,  6.31480157e-01,\n",
              "         1.76141838e+00,  9.79062891e-01,  1.33293223e+00,\n",
              "        -2.52645576e-01,  1.22295898e+00,  1.22684213e+00,\n",
              "         2.12917208e+00],\n",
              "       [ 8.52523501e-01,  1.21470590e+00, -1.00165818e+00,\n",
              "         1.62224000e+00,  1.68573558e+00,  1.56132769e+00,\n",
              "         3.95811403e+00,  5.92567755e-01,  1.76388391e+00,\n",
              "         5.75031876e-01],\n",
              "       [ 1.28418097e+00,  1.63721230e+00, -4.57278734e-01,\n",
              "         1.61644090e+00,  6.25726546e-01,  2.03443258e+00,\n",
              "        -2.52645576e-01,  1.22295898e+00,  1.46552736e+00,\n",
              "         6.86041891e-01],\n",
              "       [-1.07914367e-02,  3.69693101e-01,  8.71007113e-02,\n",
              "         1.51205711e+00,  2.13543638e+00,  1.19426356e+00,\n",
              "         3.95811403e+00,  5.92567755e-01,  1.88322653e+00,\n",
              "         1.13008195e+00],\n",
              "       [ 6.36694767e-01,  1.00345270e+00,  6.31480157e-01,\n",
              "         1.49465981e+00,  1.10754883e+00,  1.22689148e+00,\n",
              "        -2.52645576e-01,  2.48374144e+00,  8.68814268e-01,\n",
              "         2.01816207e+00],\n",
              "       [ 1.28418097e+00,  1.42595910e+00,  8.71007113e-02,\n",
              "         1.39027603e+00,  7.54212490e-01,  1.52869977e+00,\n",
              "        -2.52645576e-01,  5.92567755e-01,  1.70421260e+00,\n",
              "         2.42001832e-01],\n",
              "       [ 1.06835224e+00,  7.92199502e-01,  2.80899794e+00,\n",
              "         1.34388324e+00,  1.17179181e+00,  1.40634506e+00,\n",
              "        -2.52645576e-01,  1.22295898e+00,  3.31772481e-01,\n",
              "         1.68513202e+00],\n",
              "       [ 6.36694767e-01,  1.00345270e+00, -1.00165818e+00,\n",
              "         1.28009315e+00,  1.10754883e+00,  1.25136242e+00,\n",
              "        -2.52645576e-01,  1.85335021e+00,  1.46552736e+00,\n",
              "         1.57412201e+00],\n",
              "       [ 1.06835224e+00,  1.42595910e+00, -4.57278734e-01,\n",
              "         1.28009315e+00,  6.25726546e-01,  1.45528694e+00,\n",
              "        -2.52645576e-01,  5.92567755e-01,  2.12191177e+00,\n",
              "         2.42001832e-01],\n",
              "       [ 1.28418097e+00,  1.42595910e+00,  2.26461849e+00,\n",
              "         1.26269585e+00,  1.39664221e+00,  5.98803960e-01,\n",
              "        -2.52645576e-01, -3.78234737e-02,  6.89800339e-01,\n",
              "         2.35119211e+00],\n",
              "       [ 1.50000970e+00,  1.84846551e+00, -1.00165818e+00,\n",
              "         1.23949945e+00,  1.55724964e+00,  1.43081600e+00,\n",
              "        -2.52645576e-01,  1.22295898e+00,  1.52519867e+00,\n",
              "         1.35210198e+00],\n",
              "       [ 4.20866032e-01,  7.92199502e-01, -4.57278734e-01,\n",
              "         1.22790125e+00,  1.55724964e+00,  1.50422883e+00,\n",
              "        -2.52645576e-01,  1.22295898e+00,  1.16717082e+00,\n",
              "         7.97051905e-01],\n",
              "       [ 8.52523501e-01,  1.00345270e+00, -4.57278734e-01,\n",
              "         1.21050396e+00,  1.84634301e+00,  1.21057752e+00,\n",
              "         3.95811403e+00, -3.78234737e-02,  1.70421260e+00,\n",
              "         1.30991817e-01],\n",
              "       [ 1.50000970e+00,  1.84846551e+00, -4.57278734e-01,\n",
              "         1.15251296e+00,  3.68754658e-01,  1.44712996e+00,\n",
              "        -2.52645576e-01,  1.22295898e+00,  1.70421260e+00,\n",
              "         1.30991817e-01],\n",
              "       [ 8.52523501e-01,  1.21470590e+00, -1.00165818e+00,\n",
              "         1.09452197e+00,  6.25726546e-01,  1.07190885e+00,\n",
              "        -2.52645576e-01,  5.92567755e-01,  1.88322653e+00,\n",
              "         2.42001832e-01],\n",
              "       [ 1.28418097e+00,  1.63721230e+00, -1.00165818e+00,\n",
              "         9.78539990e-01,  1.65361410e+00,  1.03928092e+00,\n",
              "        -2.52645576e-01,  5.92567755e-01,  1.70421260e+00,\n",
              "         1.30991817e-01],\n",
              "       [ 4.20866032e-01,  5.80946302e-01,  6.31480157e-01,\n",
              "         9.26348098e-01,  1.13967032e+00,  1.03112394e+00,\n",
              "        -2.52645576e-01,  1.22295898e+00,  1.04782820e+00,\n",
              "        -2.02038227e-01],\n",
              "       [ 8.52523501e-01,  5.80946302e-01, -4.57278734e-01,\n",
              "         9.26348098e-01,  1.20391329e+00,  8.02728480e-01,\n",
              "        -2.52645576e-01,  1.22295898e+00,  6.30129029e-01,\n",
              "         1.46311199e+00],\n",
              "       [ 4.20866032e-01,  7.92199502e-01,  8.71007113e-02,\n",
              "         9.14749900e-01,  1.74997855e+00,  7.61943576e-01,\n",
              "         3.95811403e+00, -6.68214702e-01,  6.89800339e-01,\n",
              "         5.75031876e-01],\n",
              "       [ 6.36694767e-01,  1.00345270e+00, -1.00165818e+00,\n",
              "         8.56758908e-01,  3.36633173e-01,  7.94571500e-01,\n",
              "        -2.52645576e-01,  5.92567755e-01,  5.70457720e-01,\n",
              "         6.86041891e-01],\n",
              "       [ 4.20866032e-01,  3.69693101e-01,  8.71007113e-02,\n",
              "         7.81370619e-01,  8.18455461e-01,  1.12900771e+00,\n",
              "        -2.52645576e-01,  1.22295898e+00,  8.09142958e-01,\n",
              "        -4.24058256e-01],\n",
              "       [-4.42448906e-01, -5.28133001e-02, -1.00165818e+00,\n",
              "         7.34977826e-01,  1.33239924e+00,  5.58019056e-01,\n",
              "        -2.52645576e-01,  1.22295898e+00,  1.28651343e+00,\n",
              "         6.86041891e-01],\n",
              "       [ 8.52523501e-01,  1.00345270e+00,  1.17585960e+00,\n",
              "         6.47991339e-01,  9.14819919e-01,  8.27199423e-01,\n",
              "        -2.52645576e-01,  1.22295898e+00,  2.72101172e-01,\n",
              "         2.42001832e-01],\n",
              "       [ 1.50000970e+00,  1.84846551e+00,  1.72023905e+00,\n",
              "         5.66803951e-01,  3.04511687e-01,  1.35740317e+00,\n",
              "        -2.52645576e-01, -3.78234737e-02,  2.12429862e-01,\n",
              "        -9.10282120e-02],\n",
              "       [ 4.20866032e-01,  5.80946302e-01,  8.71007113e-02,\n",
              "         5.66803951e-01,  6.25726546e-01,  8.84298288e-01,\n",
              "        -2.52645576e-01, -3.78234737e-02,  6.89800339e-01,\n",
              "         2.42001832e-01],\n",
              "       [ 1.28418097e+00,  1.21470590e+00,  2.26461849e+00,\n",
              "         5.49406653e-01,  1.13967032e+00,  3.37780575e-01,\n",
              "        -2.52645576e-01, -3.78234737e-02, -1.45597995e-01,\n",
              "         1.57412201e+00],\n",
              "       [ 8.52523501e-01,  1.00345270e+00,  1.72023905e+00,\n",
              "         3.98630075e-01,  1.58937112e+00,  2.96995671e-01,\n",
              "        -2.52645576e-01,  5.92567755e-01,  3.31772481e-01,\n",
              "         6.86041891e-01],\n",
              "       [ 1.06835224e+00,  1.21470590e+00,  8.71007113e-02,\n",
              "         3.46438183e-01, -2.41553574e-01,  4.60135287e-01,\n",
              "        -2.52645576e-01, -6.68214702e-01, -3.24611924e-01,\n",
              "         4.64021861e-01],\n",
              "       [ 2.05037298e-01,  3.69693101e-01,  8.71007113e-02,\n",
              "         2.07259804e-01,  5.93605060e-01, -2.92835611e-02,\n",
              "        -2.52645576e-01,  5.92567755e-01, -2.62553762e-02,\n",
              "         1.01907193e+00],\n",
              "       [-1.07914367e-02,  3.69693101e-01,  8.71007113e-02,\n",
              "         1.66666110e-01,  3.68754658e-01,  2.23582844e-01,\n",
              "        -2.52645576e-01, -3.78234737e-02,  1.52758553e-01,\n",
              "        -9.10282120e-02],\n",
              "       [-1.07914367e-02,  3.69693101e-01,  2.26461849e+00,\n",
              "         1.55067911e-01, -4.88246586e-02,  1.58326997e-01,\n",
              "        -2.52645576e-01, -6.68214702e-01, -1.45597995e-01,\n",
              "         2.42001832e-01],\n",
              "       [ 4.20866032e-01,  7.92199502e-01,  8.71007113e-02,\n",
              "        -1.50776578e-03, -1.67031727e-02,  1.42013036e-01,\n",
              "        -2.52645576e-01, -6.68214702e-01,  2.12429862e-01,\n",
              "        -3.13048241e-01],\n",
              "       [ 1.28418097e+00,  1.42595910e+00,  1.17585960e+00,\n",
              "        -7.30686493e-03, -1.77310602e-01,  1.09385112e-01,\n",
              "        -2.52645576e-01, -6.68214702e-01,  9.30872430e-02,\n",
              "        -3.13048241e-01],\n",
              "       [-4.42448906e-01, -6.86572902e-01, -4.57278734e-01,\n",
              "        -2.47041624e-02,  6.25726546e-01,  5.22862469e-02,\n",
              "        -2.52645576e-01, -3.78234737e-02,  1.52758553e-01,\n",
              "        -4.24058256e-01],\n",
              "       [-6.58277640e-01, -4.75319701e-01, -1.00165818e+00,\n",
              "        -9.42933522e-02,  1.54183132e-02, -2.41365062e-01,\n",
              "        -2.52645576e-01, -6.68214702e-01, -3.84283234e-01,\n",
              "         6.86041891e-01],\n",
              "       [ 6.36694767e-01,  7.92199502e-01,  3.35337738e+00,\n",
              "        -1.11690650e-01, -4.66403976e-01, -1.35324311e-01,\n",
              "        -2.52645576e-01, -6.68214702e-01, -3.84283234e-01,\n",
              "        -4.24058256e-01],\n",
              "       [ 8.52523501e-01,  7.92199502e-01,  6.31480157e-01,\n",
              "        -1.29087947e-01,  3.36633173e-01,  2.64367748e-01,\n",
              "        -2.52645576e-01, -3.78234737e-02,  1.52758553e-01,\n",
              "        -5.35068271e-01],\n",
              "       [-6.58277640e-01, -6.86572902e-01, -1.00165818e+00,\n",
              "        -1.40686145e-01,  7.96612851e-02, -8.63824266e-02,\n",
              "        -2.52645576e-01, -3.78234737e-02,  3.34159334e-02,\n",
              "        -3.13048241e-01],\n",
              "       [-2.26620171e-01,  1.58439900e-01,  8.71007113e-02,\n",
              "        -1.63882542e-01,  7.22091004e-01, -5.37545035e-02,\n",
              "        -2.52645576e-01, -3.78234737e-02, -2.64940615e-01,\n",
              "        -3.13048241e-01],\n",
              "       [ 4.20866032e-01,  1.58439900e-01, -4.57278734e-01,\n",
              "        -2.39270831e-01, -1.67031727e-02, -4.12661659e-01,\n",
              "        -2.52645576e-01, -6.68214702e-01,  3.34159334e-02,\n",
              "         1.30991817e-01],\n",
              "       [-4.42448906e-01, -2.64066501e-01, -4.57278734e-01,\n",
              "        -2.50869029e-01,  7.96612851e-02, -1.51638273e-01,\n",
              "        -2.52645576e-01, -3.78234737e-02, -2.05269305e-01,\n",
              "        -6.46078285e-01],\n",
              "       [-2.26620171e-01,  1.58439900e-01,  6.31480157e-01,\n",
              "        -3.55252814e-01, -4.88246586e-02, -3.06620908e-01,\n",
              "        -2.52645576e-01, -6.68214702e-01, -5.03625853e-01,\n",
              "        -4.24058256e-01],\n",
              "       [-4.42448906e-01, -2.64066501e-01, -4.57278734e-01,\n",
              "        -4.01645607e-01, -5.30646948e-01, -4.94231467e-01,\n",
              "        -2.52645576e-01, -6.68214702e-01, -5.03625853e-01,\n",
              "        -9.10282120e-02],\n",
              "       [ 8.52523501e-01,  7.92199502e-01,  2.26461849e+00,\n",
              "        -4.30641103e-01, -6.91254377e-01, -3.96347697e-01,\n",
              "        -2.52645576e-01, -6.68214702e-01, -3.84283234e-01,\n",
              "        -5.35068271e-01],\n",
              "       [ 1.28418097e+00,  1.58439900e-01,  2.26461849e+00,\n",
              "        -4.53837499e-01, -5.30646948e-01, -3.96347697e-01,\n",
              "        -2.52645576e-01, -6.68214702e-01, -5.63297163e-01,\n",
              "        -4.24058256e-01],\n",
              "       [-6.58277640e-01, -4.75319701e-01, -1.00165818e+00,\n",
              "        -4.82832995e-01, -6.27011405e-01, -2.98463927e-01,\n",
              "        -2.52645576e-01, -6.68214702e-01, -5.03625853e-01,\n",
              "        -4.24058256e-01],\n",
              "       [-1.30576384e+00, -8.97826103e-01, -1.00165818e+00,\n",
              "        -5.00230293e-01,  1.76025743e-01, -5.02388447e-01,\n",
              "        -2.52645576e-01, -3.78234737e-02, -5.63297163e-01,\n",
              "        -2.02038227e-01],\n",
              "       [-1.52159258e+00, -1.10907930e+00, -1.00165818e+00,\n",
              "        -5.00230293e-01,  5.61483574e-01, -5.43173351e-01,\n",
              "        -2.52645576e-01, -3.78234737e-02, -3.24611924e-01,\n",
              "        -6.46078285e-01],\n",
              "       [-2.26620171e-01, -5.28133001e-02,  1.17585960e+00,\n",
              "        -5.17627590e-01,  2.40268715e-01, -6.65528063e-01,\n",
              "        -2.52645576e-01, -3.78234737e-02, -2.05269305e-01,\n",
              "        -5.35068271e-01],\n",
              "       [-1.08993511e+00, -6.86572902e-01, -1.00165818e+00,\n",
              "        -5.46623086e-01,  8.82698433e-01, -5.18702409e-01,\n",
              "        -2.52645576e-01, -3.78234737e-02, -7.42311091e-01,\n",
              "        -9.10282120e-02],\n",
              "       [-1.08993511e+00, -6.86572902e-01, -1.00165818e+00,\n",
              "        -5.69819482e-01, -6.27011405e-01, -6.81842025e-01,\n",
              "        -2.52645576e-01, -6.68214702e-01, -2.05269305e-01,\n",
              "        -7.57088300e-01],\n",
              "       [-1.30576384e+00, -8.97826103e-01, -1.00165818e+00,\n",
              "        -5.81417681e-01, -2.41553574e-01, -5.43173351e-01,\n",
              "        -2.52645576e-01, -6.68214702e-01, -4.43954543e-01,\n",
              "        -4.24058256e-01],\n",
              "       [-1.52159258e+00, -1.10907930e+00, -1.00165818e+00,\n",
              "        -5.98814978e-01, -3.70039518e-01, -6.81842025e-01,\n",
              "        -2.52645576e-01, -6.68214702e-01, -7.42311091e-01,\n",
              "        -9.10282120e-02],\n",
              "       [ 4.20866032e-01,  1.58439900e-01,  1.17585960e+00,\n",
              "        -6.04614077e-01, -6.59132891e-01, -5.75801275e-01,\n",
              "        -2.52645576e-01, -6.68214702e-01, -6.22968472e-01,\n",
              "        -5.35068271e-01],\n",
              "       [-6.58277640e-01, -2.64066501e-01,  8.71007113e-02,\n",
              "        -6.45207771e-01, -6.27011405e-01, -6.73685044e-01,\n",
              "        -2.52645576e-01, -6.68214702e-01, -8.61653711e-01,\n",
              "        -9.10282120e-02],\n",
              "       [-1.30576384e+00, -8.97826103e-01, -4.57278734e-01,\n",
              "        -6.56805970e-01, -1.13067630e-01, -7.22626929e-01,\n",
              "        -2.52645576e-01, -6.68214702e-01, -6.22968472e-01,\n",
              "        -3.13048241e-01],\n",
              "       [-4.42448906e-01, -6.86572902e-01,  8.71007113e-02,\n",
              "        -6.62605069e-01, -4.66403976e-01, -7.87882775e-01,\n",
              "        -2.52645576e-01, -6.68214702e-01, -6.82639782e-01,\n",
              "        -4.24058256e-01],\n",
              "       [ 2.05037298e-01, -6.86572902e-01,  6.31480157e-01,\n",
              "        -6.80002366e-01, -6.59132891e-01, -7.87882775e-01,\n",
              "        -2.52645576e-01, -6.68214702e-01, -7.42311091e-01,\n",
              "        -4.24058256e-01],\n",
              "       [ 2.05037298e-01, -2.64066501e-01, -4.57278734e-01,\n",
              "        -6.97399664e-01, -8.83983293e-01, -6.00272217e-01,\n",
              "        -2.52645576e-01, -6.68214702e-01, -6.82639782e-01,\n",
              "        -7.57088300e-01],\n",
              "       [-1.73742131e+00, -1.32033250e+00, -1.00165818e+00,\n",
              "        -6.97399664e-01, -3.05796546e-01, -6.16586179e-01,\n",
              "        -2.52645576e-01, -6.68214702e-01, -6.22968472e-01,\n",
              "        -7.57088300e-01],\n",
              "       [ 8.52523501e-01, -2.64066501e-01,  6.31480157e-01,\n",
              "        -7.03198763e-01, -9.16104779e-01, -7.38940890e-01,\n",
              "        -2.52645576e-01, -6.68214702e-01, -5.03625853e-01,\n",
              "        -7.57088300e-01],\n",
              "       [-4.42448906e-01, -6.86572902e-01, -1.00165818e+00,\n",
              "        -7.14796961e-01, -7.55497349e-01, -6.49214102e-01,\n",
              "        -2.52645576e-01, -6.68214702e-01, -6.82639782e-01,\n",
              "        -6.46078285e-01],\n",
              "       [-1.52159258e+00, -1.10907930e+00, -1.00165818e+00,\n",
              "        -7.90185250e-01, -4.98525462e-01, -6.89999006e-01,\n",
              "        -2.52645576e-01, -6.68214702e-01, -7.42311091e-01,\n",
              "        -6.46078285e-01],\n",
              "       [-1.30576384e+00, -8.97826103e-01, -4.57278734e-01,\n",
              "        -8.01783448e-01, -3.37918032e-01, -7.14469948e-01,\n",
              "        -2.52645576e-01, -6.68214702e-01, -7.42311091e-01,\n",
              "        -6.46078285e-01],\n",
              "       [ 6.36694767e-01, -6.86572902e-01,  8.71007113e-02,\n",
              "        -8.24979845e-01, -1.07671221e+00, -8.12353718e-01,\n",
              "        -2.52645576e-01, -6.68214702e-01, -7.42311091e-01,\n",
              "        -6.46078285e-01],\n",
              "       [ 8.52523501e-01, -4.75319701e-01, -4.57278734e-01,\n",
              "        -8.24979845e-01, -9.80347751e-01, -8.85766545e-01,\n",
              "        -2.52645576e-01, -6.68214702e-01, -8.01982401e-01,\n",
              "        -5.35068271e-01],\n",
              "       [-1.30576384e+00, -8.97826103e-01, -4.57278734e-01,\n",
              "        -8.36578043e-01, -7.55497349e-01, -8.44981641e-01,\n",
              "        -2.52645576e-01, -6.68214702e-01, -9.21325020e-01,\n",
              "        -5.35068271e-01],\n",
              "       [-1.07914367e-02, -5.28133001e-02,  1.72023905e+00,\n",
              "        -8.36578043e-01, -1.01246924e+00, -7.47097871e-01,\n",
              "        -2.52645576e-01, -6.68214702e-01, -9.21325020e-01,\n",
              "        -7.57088300e-01],\n",
              "       [-1.08993511e+00, -1.10907930e+00, -4.57278734e-01,\n",
              "        -8.53975341e-01, -5.62768433e-01, -8.36824660e-01,\n",
              "        -2.52645576e-01, -6.68214702e-01, -9.21325020e-01,\n",
              "        -6.46078285e-01],\n",
              "       [ 1.06835224e+00, -5.28133001e-02,  6.31480157e-01,\n",
              "        -8.71372638e-01, -9.80347751e-01, -9.26551449e-01,\n",
              "        -2.52645576e-01, -6.68214702e-01, -8.61653711e-01,\n",
              "        -6.46078285e-01],\n",
              "       [-2.26620171e-01, -4.75319701e-01, -1.00165818e+00,\n",
              "        -8.82970836e-01, -9.80347751e-01, -8.12353718e-01,\n",
              "        -2.52645576e-01, -6.68214702e-01, -9.21325020e-01,\n",
              "        -6.46078285e-01],\n",
              "       [-1.30576384e+00, -1.32033250e+00, -4.57278734e-01,\n",
              "        -8.82970836e-01, -8.19740321e-01, -9.26551449e-01,\n",
              "        -2.52645576e-01, -6.68214702e-01, -9.80996330e-01,\n",
              "        -5.35068271e-01],\n",
              "       [-1.08993511e+00, -8.97826103e-01,  6.31480157e-01,\n",
              "        -9.17765431e-01, -1.17307667e+00, -9.34708430e-01,\n",
              "        -2.52645576e-01, -6.68214702e-01, -8.61653711e-01,\n",
              "        -7.57088300e-01],\n",
              "       [ 2.05037298e-01, -2.64066501e-01,  1.72023905e+00,\n",
              "        -9.23564530e-01, -1.07671221e+00, -9.10237487e-01,\n",
              "        -2.52645576e-01, -6.68214702e-01, -8.01982401e-01,\n",
              "        -7.57088300e-01],\n",
              "       [ 2.05037298e-01, -8.97826103e-01,  8.71007113e-02,\n",
              "        -9.46760927e-01, -1.26944112e+00, -9.18394468e-01,\n",
              "        -2.52645576e-01, -6.68214702e-01, -8.61653711e-01,\n",
              "        -8.68098315e-01],\n",
              "       [-1.73742131e+00, -1.53158570e+00, -4.57278734e-01,\n",
              "        -9.52560026e-01, -8.83983293e-01, -1.01627824e+00,\n",
              "        -2.52645576e-01, -6.68214702e-01, -8.61653711e-01,\n",
              "        -7.57088300e-01],\n",
              "       [-1.95325005e+00, -1.53158570e+00, -1.00165818e+00,\n",
              "        -9.58359125e-01, -9.16104779e-01, -9.18394468e-01,\n",
              "        -2.52645576e-01, -6.68214702e-01, -8.61653711e-01,\n",
              "        -8.68098315e-01],\n",
              "       [-4.42448906e-01, -4.75319701e-01, -4.57278734e-01,\n",
              "        -9.64158224e-01, -1.30156261e+00, -9.18394468e-01,\n",
              "        -2.52645576e-01, -6.68214702e-01, -9.21325020e-01,\n",
              "        -7.57088300e-01],\n",
              "       [-1.52159258e+00, -1.10907930e+00, -4.57278734e-01,\n",
              "        -9.64158224e-01, -1.10883369e+00, -9.75493334e-01,\n",
              "        -2.52645576e-01, -6.68214702e-01, -9.21325020e-01,\n",
              "        -7.57088300e-01],\n",
              "       [-6.58277640e-01, -8.97826103e-01, -4.57278734e-01,\n",
              "        -9.64158224e-01, -1.23731964e+00, -9.59179372e-01,\n",
              "        -2.52645576e-01, -6.68214702e-01, -9.21325020e-01,\n",
              "        -7.57088300e-01],\n",
              "       [-1.95325005e+00, -1.53158570e+00, -1.00165818e+00,\n",
              "        -9.75756423e-01, -1.01246924e+00, -9.75493334e-01,\n",
              "        -2.52645576e-01, -6.68214702e-01, -9.21325020e-01,\n",
              "        -7.57088300e-01],\n",
              "       [-1.52159258e+00, -1.32033250e+00,  8.71007113e-02,\n",
              "        -9.81555522e-01, -1.04459072e+00, -1.00812126e+00,\n",
              "        -2.52645576e-01, -6.68214702e-01, -8.61653711e-01,\n",
              "        -8.68098315e-01],\n",
              "       [-1.95325005e+00, -1.53158570e+00, -1.00165818e+00,\n",
              "        -9.81555522e-01, -1.04459072e+00, -1.00812126e+00,\n",
              "        -2.52645576e-01, -6.68214702e-01, -9.21325020e-01,\n",
              "        -7.57088300e-01],\n",
              "       [-1.07914367e-02, -1.10907930e+00, -4.57278734e-01,\n",
              "        -9.87354621e-01, -1.14095518e+00, -1.05706314e+00,\n",
              "        -2.52645576e-01, -6.68214702e-01, -9.21325020e-01,\n",
              "        -7.57088300e-01],\n",
              "       [ 4.20866032e-01, -8.97826103e-01, -4.57278734e-01,\n",
              "        -9.87354621e-01, -1.23731964e+00, -9.91807295e-01,\n",
              "        -2.52645576e-01, -6.68214702e-01, -9.80996330e-01,\n",
              "        -7.57088300e-01],\n",
              "       [ 1.06835224e+00, -6.86572902e-01,  8.71007113e-02,\n",
              "        -9.98952819e-01, -1.30156261e+00, -9.59179372e-01,\n",
              "        -2.52645576e-01, -6.68214702e-01, -9.21325020e-01,\n",
              "        -8.68098315e-01],\n",
              "       [-2.26620171e-01, -8.97826103e-01,  8.71007113e-02,\n",
              "        -9.98952819e-01, -1.20519815e+00, -1.04890616e+00,\n",
              "        -2.52645576e-01, -6.68214702e-01, -9.21325020e-01,\n",
              "        -8.68098315e-01],\n",
              "       [ 6.36694767e-01, -8.97826103e-01,  8.71007113e-02,\n",
              "        -9.98952819e-01, -1.20519815e+00, -1.02443522e+00,\n",
              "        -2.52645576e-01, -6.68214702e-01, -8.61653711e-01,\n",
              "        -8.68098315e-01],\n",
              "       [-1.08993511e+00, -8.97826103e-01, -4.57278734e-01,\n",
              "        -1.00475192e+00, -1.20519815e+00, -9.83650314e-01,\n",
              "        -2.52645576e-01, -6.68214702e-01, -8.61653711e-01,\n",
              "        -8.68098315e-01],\n",
              "       [-1.73742131e+00, -1.32033250e+00, -1.00165818e+00,\n",
              "        -1.00475192e+00, -1.33368410e+00, -1.03259220e+00,\n",
              "        -2.52645576e-01, -6.68214702e-01, -9.21325020e-01,\n",
              "        -8.68098315e-01],\n",
              "       [ 6.36694767e-01, -1.10907930e+00,  6.31480157e-01,\n",
              "        -1.01055102e+00, -1.20519815e+00, -1.08969106e+00,\n",
              "        -2.52645576e-01, -6.68214702e-01, -9.21325020e-01,\n",
              "        -7.57088300e-01],\n",
              "       [-1.52159258e+00, -1.53158570e+00, -1.00165818e+00,\n",
              "        -1.01635012e+00, -1.23731964e+00, -1.03259220e+00,\n",
              "        -2.52645576e-01, -6.68214702e-01, -9.80996330e-01,\n",
              "        -8.68098315e-01],\n",
              "       [-6.58277640e-01, -8.97826103e-01, -1.00165818e+00,\n",
              "        -1.01635012e+00, -1.36580558e+00, -1.01627824e+00,\n",
              "        -2.52645576e-01, -6.68214702e-01, -9.21325020e-01,\n",
              "        -8.68098315e-01],\n",
              "       [-1.52159258e+00, -1.53158570e+00, -4.57278734e-01,\n",
              "        -1.01635012e+00, -1.23731964e+00, -1.04074918e+00,\n",
              "        -2.52645576e-01, -6.68214702e-01, -9.80996330e-01,\n",
              "        -8.68098315e-01]])"
            ]
          },
          "metadata": {
            "tags": []
          },
          "execution_count": 260
        }
      ]
    },
    {
      "cell_type": "code",
      "metadata": {
        "id": "xtHPG9IIaC4x"
      },
      "source": [
        "X_new_predict = pd.DataFrame(test_data_scaled,columns=X.columns)"
      ],
      "execution_count": 261,
      "outputs": []
    },
    {
      "cell_type": "code",
      "metadata": {
        "id": "9-JQ7eBgaNbh"
      },
      "source": [
        "Y_hat = ridge.predict(X_new_predict)"
      ],
      "execution_count": 262,
      "outputs": []
    },
    {
      "cell_type": "code",
      "metadata": {
        "id": "OiTtHU41aVCD"
      },
      "source": [
        "Y_hat=Y_hat.astype('int')"
      ],
      "execution_count": 263,
      "outputs": []
    },
    {
      "cell_type": "code",
      "metadata": {
        "id": "aXwfnxg1aWmF"
      },
      "source": [
        "Y_hat = pd.DataFrame(Y_hat,columns=['2020_Runs'])"
      ],
      "execution_count": 264,
      "outputs": []
    },
    {
      "cell_type": "code",
      "metadata": {
        "id": "BSvJDKtDd0Jn",
        "outputId": "f9a6149d-b7e6-4035-d0cc-f54e511fec4e",
        "colab": {
          "base_uri": "https://localhost:8080/",
          "height": 34
        }
      },
      "source": [
        "test_data.shape"
      ],
      "execution_count": 273,
      "outputs": [
        {
          "output_type": "execute_result",
          "data": {
            "text/plain": [
              "(100, 13)"
            ]
          },
          "metadata": {
            "tags": []
          },
          "execution_count": 273
        }
      ]
    },
    {
      "cell_type": "code",
      "metadata": {
        "id": "A6PuL95Gc14r",
        "outputId": "6ea1ad3f-c506-4c5e-f516-dfb78eff09b1",
        "colab": {
          "base_uri": "https://localhost:8080/",
          "height": 402
        }
      },
      "source": [
        "Y_hat"
      ],
      "execution_count": 270,
      "outputs": [
        {
          "output_type": "execute_result",
          "data": {
            "text/html": [
              "<div>\n",
              "<style scoped>\n",
              "    .dataframe tbody tr th:only-of-type {\n",
              "        vertical-align: middle;\n",
              "    }\n",
              "\n",
              "    .dataframe tbody tr th {\n",
              "        vertical-align: top;\n",
              "    }\n",
              "\n",
              "    .dataframe thead th {\n",
              "        text-align: right;\n",
              "    }\n",
              "</style>\n",
              "<table border=\"1\" class=\"dataframe\">\n",
              "  <thead>\n",
              "    <tr style=\"text-align: right;\">\n",
              "      <th></th>\n",
              "      <th>2020_Runs</th>\n",
              "    </tr>\n",
              "  </thead>\n",
              "  <tbody>\n",
              "    <tr>\n",
              "      <th>0</th>\n",
              "      <td>583</td>\n",
              "    </tr>\n",
              "    <tr>\n",
              "      <th>1</th>\n",
              "      <td>546</td>\n",
              "    </tr>\n",
              "    <tr>\n",
              "      <th>2</th>\n",
              "      <td>541</td>\n",
              "    </tr>\n",
              "    <tr>\n",
              "      <th>3</th>\n",
              "      <td>509</td>\n",
              "    </tr>\n",
              "    <tr>\n",
              "      <th>4</th>\n",
              "      <td>488</td>\n",
              "    </tr>\n",
              "    <tr>\n",
              "      <th>...</th>\n",
              "      <td>...</td>\n",
              "    </tr>\n",
              "    <tr>\n",
              "      <th>95</th>\n",
              "      <td>0</td>\n",
              "    </tr>\n",
              "    <tr>\n",
              "      <th>96</th>\n",
              "      <td>-2</td>\n",
              "    </tr>\n",
              "    <tr>\n",
              "      <th>97</th>\n",
              "      <td>-5</td>\n",
              "    </tr>\n",
              "    <tr>\n",
              "      <th>98</th>\n",
              "      <td>10</td>\n",
              "    </tr>\n",
              "    <tr>\n",
              "      <th>99</th>\n",
              "      <td>-8</td>\n",
              "    </tr>\n",
              "  </tbody>\n",
              "</table>\n",
              "<p>100 rows × 1 columns</p>\n",
              "</div>"
            ],
            "text/plain": [
              "    2020_Runs\n",
              "0         583\n",
              "1         546\n",
              "2         541\n",
              "3         509\n",
              "4         488\n",
              "..        ...\n",
              "95          0\n",
              "96         -2\n",
              "97         -5\n",
              "98         10\n",
              "99         -8\n",
              "\n",
              "[100 rows x 1 columns]"
            ]
          },
          "metadata": {
            "tags": []
          },
          "execution_count": 270
        }
      ]
    },
    {
      "cell_type": "code",
      "metadata": {
        "id": "ueYR4tPWc290"
      },
      "source": [
        "final = pd.concat([test_data,Y_hat],ignore_index=True,axis=1)"
      ],
      "execution_count": 274,
      "outputs": []
    },
    {
      "cell_type": "code",
      "metadata": {
        "id": "TA2B3vmhdBsX",
        "outputId": "7b3f328f-f966-4560-f3e4-b78d5cb60897",
        "colab": {
          "base_uri": "https://localhost:8080/",
          "height": 402
        }
      },
      "source": [
        "final"
      ],
      "execution_count": 275,
      "outputs": [
        {
          "output_type": "execute_result",
          "data": {
            "text/html": [
              "<div>\n",
              "<style scoped>\n",
              "    .dataframe tbody tr th:only-of-type {\n",
              "        vertical-align: middle;\n",
              "    }\n",
              "\n",
              "    .dataframe tbody tr th {\n",
              "        vertical-align: top;\n",
              "    }\n",
              "\n",
              "    .dataframe thead th {\n",
              "        text-align: right;\n",
              "    }\n",
              "</style>\n",
              "<table border=\"1\" class=\"dataframe\">\n",
              "  <thead>\n",
              "    <tr style=\"text-align: right;\">\n",
              "      <th></th>\n",
              "      <th>0</th>\n",
              "      <th>1</th>\n",
              "      <th>2</th>\n",
              "      <th>3</th>\n",
              "      <th>4</th>\n",
              "      <th>5</th>\n",
              "      <th>6</th>\n",
              "      <th>7</th>\n",
              "      <th>8</th>\n",
              "      <th>9</th>\n",
              "      <th>10</th>\n",
              "      <th>11</th>\n",
              "      <th>12</th>\n",
              "      <th>13</th>\n",
              "    </tr>\n",
              "  </thead>\n",
              "  <tbody>\n",
              "    <tr>\n",
              "      <th>0</th>\n",
              "      <td>David Warner</td>\n",
              "      <td>12</td>\n",
              "      <td>12</td>\n",
              "      <td>2</td>\n",
              "      <td>692</td>\n",
              "      <td>100*</td>\n",
              "      <td>69.2</td>\n",
              "      <td>481</td>\n",
              "      <td>143.86</td>\n",
              "      <td>1</td>\n",
              "      <td>8</td>\n",
              "      <td>57</td>\n",
              "      <td>21</td>\n",
              "      <td>583</td>\n",
              "    </tr>\n",
              "    <tr>\n",
              "      <th>1</th>\n",
              "      <td>KL Rahul</td>\n",
              "      <td>14</td>\n",
              "      <td>14</td>\n",
              "      <td>3</td>\n",
              "      <td>593</td>\n",
              "      <td>100*</td>\n",
              "      <td>53.9</td>\n",
              "      <td>438</td>\n",
              "      <td>135.38</td>\n",
              "      <td>1</td>\n",
              "      <td>6</td>\n",
              "      <td>49</td>\n",
              "      <td>25</td>\n",
              "      <td>546</td>\n",
              "    </tr>\n",
              "    <tr>\n",
              "      <th>2</th>\n",
              "      <td>Quinton de Kock</td>\n",
              "      <td>16</td>\n",
              "      <td>16</td>\n",
              "      <td>1</td>\n",
              "      <td>529</td>\n",
              "      <td>81</td>\n",
              "      <td>35.26</td>\n",
              "      <td>398</td>\n",
              "      <td>132.91</td>\n",
              "      <td>0</td>\n",
              "      <td>4</td>\n",
              "      <td>45</td>\n",
              "      <td>25</td>\n",
              "      <td>541</td>\n",
              "    </tr>\n",
              "    <tr>\n",
              "      <th>3</th>\n",
              "      <td>Shikhar Dhawan</td>\n",
              "      <td>16</td>\n",
              "      <td>16</td>\n",
              "      <td>1</td>\n",
              "      <td>521</td>\n",
              "      <td>97*</td>\n",
              "      <td>34.73</td>\n",
              "      <td>384</td>\n",
              "      <td>135.67</td>\n",
              "      <td>0</td>\n",
              "      <td>5</td>\n",
              "      <td>64</td>\n",
              "      <td>11</td>\n",
              "      <td>509</td>\n",
              "    </tr>\n",
              "    <tr>\n",
              "      <th>4</th>\n",
              "      <td>Andre Russell</td>\n",
              "      <td>14</td>\n",
              "      <td>13</td>\n",
              "      <td>4</td>\n",
              "      <td>510</td>\n",
              "      <td>80*</td>\n",
              "      <td>56.66</td>\n",
              "      <td>249</td>\n",
              "      <td>204.81</td>\n",
              "      <td>0</td>\n",
              "      <td>4</td>\n",
              "      <td>31</td>\n",
              "      <td>52</td>\n",
              "      <td>488</td>\n",
              "    </tr>\n",
              "    <tr>\n",
              "      <th>...</th>\n",
              "      <td>...</td>\n",
              "      <td>...</td>\n",
              "      <td>...</td>\n",
              "      <td>...</td>\n",
              "      <td>...</td>\n",
              "      <td>...</td>\n",
              "      <td>...</td>\n",
              "      <td>...</td>\n",
              "      <td>...</td>\n",
              "      <td>...</td>\n",
              "      <td>...</td>\n",
              "      <td>...</td>\n",
              "      <td>...</td>\n",
              "      <td>...</td>\n",
              "    </tr>\n",
              "    <tr>\n",
              "      <th>95</th>\n",
              "      <td>Carlos Brathwaite</td>\n",
              "      <td>2</td>\n",
              "      <td>2</td>\n",
              "      <td>0</td>\n",
              "      <td>11</td>\n",
              "      <td>6</td>\n",
              "      <td>5.5</td>\n",
              "      <td>10</td>\n",
              "      <td>110.00</td>\n",
              "      <td>0</td>\n",
              "      <td>0</td>\n",
              "      <td>1</td>\n",
              "      <td>0</td>\n",
              "      <td>0</td>\n",
              "    </tr>\n",
              "    <tr>\n",
              "      <th>96</th>\n",
              "      <td>Ishant Sharma</td>\n",
              "      <td>13</td>\n",
              "      <td>3</td>\n",
              "      <td>3</td>\n",
              "      <td>10</td>\n",
              "      <td>10*</td>\n",
              "      <td>-</td>\n",
              "      <td>3</td>\n",
              "      <td>333.33</td>\n",
              "      <td>0</td>\n",
              "      <td>0</td>\n",
              "      <td>1</td>\n",
              "      <td>1</td>\n",
              "      <td>-2</td>\n",
              "    </tr>\n",
              "    <tr>\n",
              "      <th>97</th>\n",
              "      <td>Shakib Al Hasan</td>\n",
              "      <td>3</td>\n",
              "      <td>1</td>\n",
              "      <td>0</td>\n",
              "      <td>9</td>\n",
              "      <td>9</td>\n",
              "      <td>9</td>\n",
              "      <td>10</td>\n",
              "      <td>90.00</td>\n",
              "      <td>0</td>\n",
              "      <td>0</td>\n",
              "      <td>0</td>\n",
              "      <td>0</td>\n",
              "      <td>-5</td>\n",
              "    </tr>\n",
              "    <tr>\n",
              "      <th>98</th>\n",
              "      <td>Pawan Negi</td>\n",
              "      <td>7</td>\n",
              "      <td>4</td>\n",
              "      <td>0</td>\n",
              "      <td>9</td>\n",
              "      <td>5</td>\n",
              "      <td>2.25</td>\n",
              "      <td>12</td>\n",
              "      <td>75.00</td>\n",
              "      <td>0</td>\n",
              "      <td>0</td>\n",
              "      <td>1</td>\n",
              "      <td>0</td>\n",
              "      <td>10</td>\n",
              "    </tr>\n",
              "    <tr>\n",
              "      <th>99</th>\n",
              "      <td>Tim Southee</td>\n",
              "      <td>3</td>\n",
              "      <td>1</td>\n",
              "      <td>1</td>\n",
              "      <td>9</td>\n",
              "      <td>9*</td>\n",
              "      <td>-</td>\n",
              "      <td>9</td>\n",
              "      <td>100.00</td>\n",
              "      <td>0</td>\n",
              "      <td>0</td>\n",
              "      <td>0</td>\n",
              "      <td>0</td>\n",
              "      <td>-8</td>\n",
              "    </tr>\n",
              "  </tbody>\n",
              "</table>\n",
              "<p>100 rows × 14 columns</p>\n",
              "</div>"
            ],
            "text/plain": [
              "                   0   1   2   3    4     5   ...      8   9   10  11  12   13\n",
              "0        David Warner  12  12   2  692  100*  ...  143.86   1   8  57  21  583\n",
              "1            KL Rahul  14  14   3  593  100*  ...  135.38   1   6  49  25  546\n",
              "2     Quinton de Kock  16  16   1  529    81  ...  132.91   0   4  45  25  541\n",
              "3      Shikhar Dhawan  16  16   1  521   97*  ...  135.67   0   5  64  11  509\n",
              "4       Andre Russell  14  13   4  510   80*  ...  204.81   0   4  31  52  488\n",
              "..                ...  ..  ..  ..  ...   ...  ...     ...  ..  ..  ..  ..  ...\n",
              "95  Carlos Brathwaite   2   2   0   11     6  ...  110.00   0   0   1   0    0\n",
              "96      Ishant Sharma  13   3   3   10   10*  ...  333.33   0   0   1   1   -2\n",
              "97    Shakib Al Hasan   3   1   0    9     9  ...   90.00   0   0   0   0   -5\n",
              "98         Pawan Negi   7   4   0    9     5  ...   75.00   0   0   1   0   10\n",
              "99        Tim Southee   3   1   1    9    9*  ...  100.00   0   0   0   0   -8\n",
              "\n",
              "[100 rows x 14 columns]"
            ]
          },
          "metadata": {
            "tags": []
          },
          "execution_count": 275
        }
      ]
    },
    {
      "cell_type": "code",
      "metadata": {
        "id": "lQBC62JqdOml"
      },
      "source": [
        " final.to_csv('Final.csv')"
      ],
      "execution_count": 277,
      "outputs": []
    },
    {
      "cell_type": "code",
      "metadata": {
        "id": "0T9GxPcceMtW"
      },
      "source": [
        ""
      ],
      "execution_count": null,
      "outputs": []
    }
  ]
}